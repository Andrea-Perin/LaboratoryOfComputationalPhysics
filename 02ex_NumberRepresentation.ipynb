{
 "cells": [
  {
   "cell_type": "markdown",
   "metadata": {},
   "source": [
    "1\\. Write a function that converts number representation (bin<->dec<->hex)"
   ]
  },
  {
   "cell_type": "code",
   "execution_count": 2,
   "metadata": {},
   "outputs": [
    {
     "name": "stdout",
     "output_type": "stream",
     "text": [
      "9\n",
      "1001\n",
      "21\n"
     ]
    }
   ],
   "source": [
    "trans={'A':10, 'B':11, 'C':12, 'D':13, 'E':14, 'F':15,'1':1,'2':2, '3':3,'4':4,'5':5,'6':6,'7':7,'8':8,'9':9,'0':0}\n",
    "invtrans = {v: k for k, v in trans.items()}\n",
    "\n",
    "\n",
    "\n",
    "def rd(num,base):\n",
    "    a=str(num)\n",
    "    r=0\n",
    "    for i in range(0,len(a)):\n",
    "        r=r+trans[a[i]]*(base**(len(a)-1-i))\n",
    "    return r\n",
    "             \n",
    "def rapp(num,base):\n",
    "    r=\"\"\n",
    "    while num>=base:\n",
    "        r=str(invtrans[num%base])+r\n",
    "        num=num//base\n",
    "    r=str(invtrans[num%base])+r\n",
    "    num=num//base\n",
    "    return r\n",
    "    \n",
    "    \n",
    "    \n",
    "def b12(n,b1,b2):\n",
    "    return rapp(int(rd(n,b1)),b2)\n",
    "    \n",
    "    \n",
    "    \n",
    "    \n",
    "    \n",
    "a=\"1001\"\n",
    "print(rd(a,2))\n",
    "print(rapp(int(rd(a,2)),2))\n",
    "\n",
    "print(b12(a,2,4))"
   ]
  },
  {
   "cell_type": "markdown",
   "metadata": {},
   "source": [
    "2\\. Write a function that converts a 32 bit word into a single precision floating point (i.e. interprets the various bits as sign, mantissa and exponent)"
   ]
  },
  {
   "cell_type": "code",
   "execution_count": 35,
   "metadata": {},
   "outputs": [
    {
     "data": {
      "text/plain": [
       "1.316553672920962e-36"
      ]
     },
     "execution_count": 35,
     "metadata": {},
     "output_type": "execute_result"
    }
   ],
   "source": [
    "#exceptions must be added:NaN, inf \n",
    "\n",
    "\n",
    "\n",
    "def t(word):\n",
    "    s=2147483648 #mask for sign\n",
    "    e=2139095040 #mask for exponent\n",
    "    m=8388607    #mask for mantissa\n",
    "    pint=8388608 #mask that adds the 1. part in front of the mantissa\n",
    "    \n",
    "    return ((-1)**((word&s)>>31))*((((word&m)|pint)/(2**23))*2**(((word&e)>>23)-127))\n",
    "\n",
    "t(65011712)\n",
    "    \n"
   ]
  },
  {
   "cell_type": "markdown",
   "metadata": {},
   "source": [
    "3\\. Write a program to determine the underflow and overflow limits (within a factor of 2) for python on your computer. \n",
    "\n",
    "**Tips**: define two variables inizialized to 1 and halve/double them enough time to exceed the under/over-flow limits  "
   ]
  },
  {
   "cell_type": "code",
   "execution_count": 54,
   "metadata": {},
   "outputs": [
    {
     "name": "stdout",
     "output_type": "stream",
     "text": [
      "5e-324\n",
      "89884656743115795386465259539451236680898848947115328636715040578866337902750481566354238661203768010560056939935696678829394884407208311246423715319737062188883946712432742638151109800623047059726541476042502884419075341171231440736956555270413618581675255342293149119973622969239858152417678164812112068608\n"
     ]
    }
   ],
   "source": [
    "under=1\n",
    "above=float(1)\n",
    "\n",
    "ul=0\n",
    "al=0\n",
    "\n",
    "while under!=0:\n",
    "    under/=2\n",
    "    ul+=1\n",
    "print(1/2**(ul-1))\n",
    "\n",
    "while above<above*2:\n",
    "    above*=2\n",
    "    al+=1    \n",
    "print(2**(al-1))    \n",
    "\n"
   ]
  },
  {
   "cell_type": "markdown",
   "metadata": {},
   "source": [
    "4\\. Write a program to determine the machine precision\n",
    "\n",
    "**Tips**: define a new variable by adding a smaller and smaller value (proceeding similarly to prob. 2) to an original variable and check the point where the two are the same "
   ]
  },
  {
   "cell_type": "code",
   "execution_count": 57,
   "metadata": {},
   "outputs": [
    {
     "name": "stdout",
     "output_type": "stream",
     "text": [
      "2.220446049250313e-16\n"
     ]
    }
   ],
   "source": [
    "#not sure...\n",
    "\n",
    "\n",
    "u=1\n",
    "v=1\n",
    "c=0\n",
    "while v!=v+u:\n",
    "    u=u/2\n",
    "    \n",
    "\n",
    "print(u*2)"
   ]
  },
  {
   "cell_type": "markdown",
   "metadata": {},
   "source": [
    "5\\. Write a function that takes in input three parameters $a$, $b$ and $c$ and prints out the two solutions to the quadratic equation $ax^2+bx+c=0$ using the standard formula:\n",
    "$$\n",
    "x=\\frac{-b\\pm\\sqrt{b^2-4ac}}{2a}\n",
    "$$\n",
    "\n",
    "(a) use the program to compute the solution for $a=0.001$, $b=1000$ and $c=0.001$\n",
    "\n",
    "(b) re-express the standard solution formula by multiplying top and bottom by $-b\\mp\\sqrt{b^2-4ac}$ and again find the solution for $a=0.001$, $b=1000$ and $c=0.001$. How does it compare with what previously obtained? Why?\n",
    "\n",
    "(c) write a function that compute the roots of a quadratic equation accurately in all cases"
   ]
  },
  {
   "cell_type": "code",
   "execution_count": 70,
   "metadata": {},
   "outputs": [
    {
     "name": "stdout",
     "output_type": "stream",
     "text": [
      "(-9.999894245993346e-07, -999999.999999)\n",
      "-1000000.0\n",
      "(-1.000000000001e-06, -1000010.5755125057)\n",
      "-1000010.5755135057\n"
     ]
    }
   ],
   "source": [
    "def sol(a,b,c):\n",
    "    return ((-b+(b**2-4*a*c)**(0.5))/(2*a)),((-b-(b**2-4*a*c)**(0.5))/(2*a))\n",
    "\n",
    "print(sol(0.001,1000,0.001))\n",
    "print(float(sol(0.001,1000,0.001)[0])+float(sol(0.001,1000,0.001)[1])) #controlling the sum of the roots\n",
    "\n",
    "\n",
    "\n",
    "def bettersol(a,b,c):\n",
    "    return (2*c)/(-b-((b**2-4*a*c)**(0.5))),(2*c)/(-b+((b**2-4*a*c)**(0.5)))\n",
    "\n",
    "print(bettersol(0.001,1000,0.001))\n",
    "print(float(bettersol(0.001,1000,0.001)[0])+float(bettersol(0.001,1000,0.001)[1]))  #controlling the sum of the roots\n",
    "\n",
    "\n",
    "#def finalsol(a,b,c):\n",
    "    "
   ]
  },
  {
   "cell_type": "code",
   "execution_count": 69,
   "metadata": {},
   "outputs": [
    {
     "data": {
      "text/plain": [
       "499999.999999"
      ]
     },
     "execution_count": 69,
     "metadata": {},
     "output_type": "execute_result"
    }
   ],
   "source": [
    "127*(15500031**.5)"
   ]
  },
  {
   "cell_type": "markdown",
   "metadata": {},
   "source": [
    "6\\. Write a program that implements the function $f(x)=x(x−1)$\n",
    "\n",
    "(a) Calculate the derivative of the function at the point $x = 1$ using the derivative definition:\n",
    "\n",
    "$$\n",
    "\\frac{{\\rm d}f}{{\\rm d}x} = \\lim_{\\delta\\to0} \\frac{f(x+\\delta)-f(x)}{\\delta}\n",
    "$$\n",
    "\n",
    "with $\\delta = 10^{−2}$. Calculate the true value of the same derivative analytically and compare with the answer your program gives. The two will not agree perfectly. Why not?\n",
    "\n",
    "(b) Repeat the calculation for $\\delta = 10^{−4}, 10^{−6}, 10^{−8}, 10^{−10}, 10^{−12}$ and $10^{−14}$. How does the accuracy scales with $\\delta$?"
   ]
  },
  {
   "cell_type": "markdown",
   "metadata": {},
   "source": [
    "7\\. Consider the integral of the semicircle of radius 1:\n",
    "$$\n",
    "I=\\int_{-1}^{1} \\sqrt(1-x^2) {\\rm d}x\n",
    "$$\n",
    "which it's known to be $I=\\frac{\\pi}{2}=1.57079632679...$.\n",
    "Alternatively we can use the Riemann definition of the integral:\n",
    "$$\n",
    "I=\\lim_{N\\to\\infty} \\sum_{k=1}^{N} h y_k \n",
    "$$\n",
    "\n",
    "with $h=2/N$ the width of each of the $N$ slices the domain is divided into and where\n",
    "$y_k$ is the value of the function at the $k-$th slice.\n",
    "\n",
    "(a) Write a programe to compute the integral with $N=100$. How does the result compares to the true value?\n",
    "\n",
    "(b) How much can $N$ be increased if the computation needs to be run in less than a second? What is the gain in running it for 1 minute? \n"
   ]
  },
  {
   "cell_type": "code",
   "execution_count": null,
   "metadata": {
    "collapsed": true
   },
   "outputs": [],
   "source": []
  }
 ],
 "metadata": {
  "kernelspec": {
   "display_name": "Python 3",
   "language": "python",
   "name": "python3"
  },
  "language_info": {
   "codemirror_mode": {
    "name": "ipython",
    "version": 3
   },
   "file_extension": ".py",
   "mimetype": "text/x-python",
   "name": "python",
   "nbconvert_exporter": "python",
   "pygments_lexer": "ipython3",
   "version": "3.6.3"
  }
 },
 "nbformat": 4,
 "nbformat_minor": 2
}
