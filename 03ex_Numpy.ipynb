{
 "cells": [
  {
   "cell_type": "markdown",
   "metadata": {},
   "source": [
    "### Numpy basics"
   ]
  },
  {
   "cell_type": "code",
   "execution_count": 20,
   "metadata": {
    "collapsed": true
   },
   "outputs": [],
   "source": [
    "import numpy as np\n",
    "import numpy.random as npr\n",
    "npr.seed(123)\n",
    "import matplotlib.pyplot as plt\n",
    "%matplotlib inline "
   ]
  },
  {
   "cell_type": "markdown",
   "metadata": {},
   "source": [
    "1\\. Find the row, column and overall means for the following matrix:\n",
    "\n",
    "```python\n",
    "m = np.arange(12).reshape((3,4))\n",
    "```"
   ]
  },
  {
   "cell_type": "code",
   "execution_count": 21,
   "metadata": {},
   "outputs": [
    {
     "name": "stdout",
     "output_type": "stream",
     "text": [
      "[[ 0  1  2  3]\n",
      " [ 4  5  6  7]\n",
      " [ 8  9 10 11]]\n",
      "Mean of row number 0 is 1.5\n",
      "Mean of row number 1 is 5.5\n",
      "Mean of row number 2 is 9.5\n",
      "Mean of row number 0 is 4.0\n",
      "Mean of row number 1 is 5.0\n",
      "Mean of row number 2 is 6.0\n",
      "Mean of row number 3 is 7.0\n",
      "Overall mean 5.5\n"
     ]
    }
   ],
   "source": [
    "m = np.arange(12).reshape((3,4))\n",
    "print(m)\n",
    "for i in range(3):\n",
    "    print(\"Mean of row number\", i,\"is\",m[i].mean())\n",
    "\n",
    "for i in range(4):\n",
    "    print(\"Mean of row number\", i,\"is\",np.transpose(m)[i].mean())\n",
    "    \n",
    "print(\"Overall mean\",m.mean())"
   ]
  },
  {
   "cell_type": "markdown",
   "metadata": {},
   "source": [
    "2\\. Find the outer product of the following two vecotrs\n",
    "\n",
    "```python\n",
    "u = np.array([1,3,5,7])\n",
    "v = np.array([2,4,6,8])\n",
    "```\n",
    "\n",
    "Do this in the following ways:\n",
    "\n",
    "   * Using the function outer in numpy\n",
    "   * Using a nested for loop or list comprehension\n",
    "   * Using numpy broadcasting operations\n"
   ]
  },
  {
   "cell_type": "code",
   "execution_count": 22,
   "metadata": {},
   "outputs": [
    {
     "name": "stdout",
     "output_type": "stream",
     "text": [
      "[[ 2  4  6  8]\n",
      " [ 6 12 18 24]\n",
      " [10 20 30 40]\n",
      " [14 28 42 56]]\n",
      "[[ 2  4  6  8]\n",
      " [ 6 12 18 24]\n",
      " [10 20 30 40]\n",
      " [14 28 42 56]]\n",
      "[[ 2  4  6  8]\n",
      " [ 6 12 18 24]\n",
      " [10 20 30 40]\n",
      " [14 28 42 56]]\n"
     ]
    }
   ],
   "source": [
    "u = np.array([1,3,5,7])\n",
    "v = np.array([2,4,6,8])\n",
    "\n",
    "print(np.outer(u,v))\n",
    "\n",
    "\n",
    "\n",
    "\n",
    "ou1=np.array([[u[i]*v[j] for j in range(4)] for i in range(4)])\n",
    "\n",
    "print(ou1)\n",
    "\n",
    "u=u.reshape(4,1)\n",
    "ou2=u*v\n",
    "\n",
    "print(ou2)"
   ]
  },
  {
   "cell_type": "markdown",
   "metadata": {},
   "source": [
    "3\\. Create a 10 by 6 matrix of random uniform numbers. Set all rows with any entry less than 0.1 to be zero\n",
    "\n",
    "Hint: Use the following numpy functions - np.random.random, np.any as well as Boolean indexing and the axis argument."
   ]
  },
  {
   "cell_type": "code",
   "execution_count": 23,
   "metadata": {},
   "outputs": [
    {
     "name": "stdout",
     "output_type": "stream",
     "text": [
      "[[ 0.69646919  0.28613933  0.22685145  0.55131477  0.71946897  0.42310646]\n",
      " [ 0.9807642   0.68482974  0.4809319   0.39211752  0.34317802  0.72904971]\n",
      " [ 0.43857224  0.0596779   0.39804426  0.73799541  0.18249173  0.17545176]\n",
      " [ 0.53155137  0.53182759  0.63440096  0.84943179  0.72445532  0.61102351]\n",
      " [ 0.72244338  0.32295891  0.36178866  0.22826323  0.29371405  0.63097612]\n",
      " [ 0.09210494  0.43370117  0.43086276  0.4936851   0.42583029  0.31226122]\n",
      " [ 0.42635131  0.89338916  0.94416002  0.50183668  0.62395295  0.1156184 ]\n",
      " [ 0.31728548  0.41482621  0.86630916  0.25045537  0.48303426  0.98555979]\n",
      " [ 0.51948512  0.61289453  0.12062867  0.8263408   0.60306013  0.54506801]\n",
      " [ 0.34276383  0.30412079  0.41702221  0.68130077  0.87545684  0.51042234]]\n",
      "\n",
      "\n",
      "[[ 0.69646919  0.28613933  0.22685145  0.55131477  0.71946897  0.42310646]\n",
      " [ 0.9807642   0.68482974  0.4809319   0.39211752  0.34317802  0.72904971]\n",
      " [ 0.          0.          0.          0.          0.          0.        ]\n",
      " [ 0.53155137  0.53182759  0.63440096  0.84943179  0.72445532  0.61102351]\n",
      " [ 0.72244338  0.32295891  0.36178866  0.22826323  0.29371405  0.63097612]\n",
      " [ 0.          0.          0.          0.          0.          0.        ]\n",
      " [ 0.42635131  0.89338916  0.94416002  0.50183668  0.62395295  0.1156184 ]\n",
      " [ 0.31728548  0.41482621  0.86630916  0.25045537  0.48303426  0.98555979]\n",
      " [ 0.51948512  0.61289453  0.12062867  0.8263408   0.60306013  0.54506801]\n",
      " [ 0.34276383  0.30412079  0.41702221  0.68130077  0.87545684  0.51042234]]\n"
     ]
    }
   ],
   "source": [
    "m=np.random.random(60).reshape(10,6)\n",
    "print(m)\n",
    "\n",
    "\n",
    "for i in range(len(m)):\n",
    "    if ((m[i]<0.1).any()):\n",
    "        m[i]=0\n",
    "        \n",
    "print(\"\\n\")\n",
    "print(m)"
   ]
  },
  {
   "cell_type": "markdown",
   "metadata": {},
   "source": [
    "4\\. Use np.linspace to create an array of 100 numbers between 0 and 2π (inclusive).\n",
    "\n",
    "  * Extract every 10th element using slice notation\n",
    "  * Reverse the array using slice notation\n",
    "  * Extract elements where the absolute difference between the sine and cosine functions evaluated at that element is less than 0.1\n",
    "  * Make a plot showing the sin and cos functions and indicate where they are close"
   ]
  },
  {
   "cell_type": "code",
   "execution_count": 24,
   "metadata": {},
   "outputs": [
    {
     "name": "stdout",
     "output_type": "stream",
     "text": [
      "[ 0.          0.06346652  0.12693304  0.19039955  0.25386607  0.31733259\n",
      "  0.38079911  0.44426563  0.50773215  0.57119866  0.63466518  0.6981317\n",
      "  0.76159822  0.82506474  0.88853126  0.95199777  1.01546429  1.07893081\n",
      "  1.14239733  1.20586385  1.26933037  1.33279688  1.3962634   1.45972992\n",
      "  1.52319644  1.58666296  1.65012947  1.71359599  1.77706251  1.84052903\n",
      "  1.90399555  1.96746207  2.03092858  2.0943951   2.15786162  2.22132814\n",
      "  2.28479466  2.34826118  2.41172769  2.47519421  2.53866073  2.60212725\n",
      "  2.66559377  2.72906028  2.7925268   2.85599332  2.91945984  2.98292636\n",
      "  3.04639288  3.10985939  3.17332591  3.23679243  3.30025895  3.36372547\n",
      "  3.42719199  3.4906585   3.55412502  3.61759154  3.68105806  3.74452458\n",
      "  3.8079911   3.87145761  3.93492413  3.99839065  4.06185717  4.12532369\n",
      "  4.1887902   4.25225672  4.31572324  4.37918976  4.44265628  4.5061228\n",
      "  4.56958931  4.63305583  4.69652235  4.75998887  4.82345539  4.88692191\n",
      "  4.95038842  5.01385494  5.07732146  5.14078798  5.2042545   5.26772102\n",
      "  5.33118753  5.39465405  5.45812057  5.52158709  5.58505361  5.64852012\n",
      "  5.71198664  5.77545316  5.83891968  5.9023862   5.96585272  6.02931923\n",
      "  6.09278575  6.15625227  6.21971879  6.28318531]\n",
      "[ 0.          0.63466518  1.26933037  1.90399555  2.53866073  3.17332591\n",
      "  3.8079911   4.44265628  5.07732146  5.71198664]\n",
      "[ 6.28318531  6.21971879  6.15625227  6.09278575  6.02931923  5.96585272\n",
      "  5.9023862   5.83891968  5.77545316  5.71198664  5.64852012  5.58505361\n",
      "  5.52158709  5.45812057  5.39465405  5.33118753  5.26772102  5.2042545\n",
      "  5.14078798  5.07732146  5.01385494  4.95038842  4.88692191  4.82345539\n",
      "  4.75998887  4.69652235  4.63305583  4.56958931  4.5061228   4.44265628\n",
      "  4.37918976  4.31572324  4.25225672  4.1887902   4.12532369  4.06185717\n",
      "  3.99839065  3.93492413  3.87145761  3.8079911   3.74452458  3.68105806\n",
      "  3.61759154  3.55412502  3.4906585   3.42719199  3.36372547  3.30025895\n",
      "  3.23679243  3.17332591  3.10985939  3.04639288  2.98292636  2.91945984\n",
      "  2.85599332  2.7925268   2.72906028  2.66559377  2.60212725  2.53866073\n",
      "  2.47519421  2.41172769  2.34826118  2.28479466  2.22132814  2.15786162\n",
      "  2.0943951   2.03092858  1.96746207  1.90399555  1.84052903  1.77706251\n",
      "  1.71359599  1.65012947  1.58666296  1.52319644  1.45972992  1.3962634\n",
      "  1.33279688  1.26933037  1.20586385  1.14239733  1.07893081  1.01546429\n",
      "  0.95199777  0.88853126  0.82506474  0.76159822  0.6981317   0.63466518\n",
      "  0.57119866  0.50773215  0.44426563  0.38079911  0.31733259  0.25386607\n",
      "  0.19039955  0.12693304  0.06346652  0.        ]\n",
      "[ 0.76159822  0.82506474  3.87145761  3.93492413]\n"
     ]
    },
    {
     "data": {
      "text/plain": [
       "[<matplotlib.lines.Line2D at 0x7f1c3089fda0>,\n",
       " <matplotlib.lines.Line2D at 0x7f1c3089ff60>,\n",
       " <matplotlib.lines.Line2D at 0x7f1c3082d7b8>]"
      ]
     },
     "execution_count": 24,
     "metadata": {},
     "output_type": "execute_result"
    },
    {
     "data": {
      "image/png": "[encoded data removed]",
      "text/plain": [
       "<matplotlib.figure.Figure at 0x7f1c30876908>"
      ]
     },
     "metadata": {},
     "output_type": "display_data"
    }
   ],
   "source": [
    "interval=np.linspace(0,2*np.pi,100,True)\n",
    "print(interval)\n",
    "\n",
    "refined=interval[::10]\n",
    "print(refined)\n",
    "\n",
    "inverted=interval[::-1]\n",
    "print(inverted)\n",
    "\n",
    "mask=[(np.absolute(np.sin(interval)-np.cos(interval)))<0.1]\n",
    "#print(mask)\n",
    "\n",
    "diff=interval[mask]\n",
    "print(diff)\n",
    "\n",
    "s=np.sin(interval)\n",
    "c=np.cos(interval)\n",
    "punti=diff*0  #an array of (four) zeroes!\n",
    "plt.plot(interval,s,interval,c,diff,punti,'o')"
   ]
  },
  {
   "cell_type": "markdown",
   "metadata": {},
   "source": [
    "5\\. Create a matrix that shows the 10 by 10 multiplication table.\n",
    "\n",
    " * Find the trace of the matrix\n",
    " * Extract the anti-diagonal (this should be ```array([10, 18, 24, 28, 30, 30, 28, 24, 18, 10])```)\n",
    " * Extract the diagonal offset by 1 upwards (this should be ```array([ 2,  6, 12, 20, 30, 42, 56, 72, 90])```)"
   ]
  },
  {
   "cell_type": "code",
   "execution_count": 25,
   "metadata": {},
   "outputs": [
    {
     "name": "stdout",
     "output_type": "stream",
     "text": [
      "[[  1   2   3   4   5   6   7   8   9  10]\n",
      " [  2   4   6   8  10  12  14  16  18  20]\n",
      " [  3   6   9  12  15  18  21  24  27  30]\n",
      " [  4   8  12  16  20  24  28  32  36  40]\n",
      " [  5  10  15  20  25  30  35  40  45  50]\n",
      " [  6  12  18  24  30  36  42  48  54  60]\n",
      " [  7  14  21  28  35  42  49  56  63  70]\n",
      " [  8  16  24  32  40  48  56  64  72  80]\n",
      " [  9  18  27  36  45  54  63  72  81  90]\n",
      " [ 10  20  30  40  50  60  70  80  90 100]]\n",
      "385\n",
      "[10 18 24 28 30 30 28 24 18 10]\n",
      "[ 2  6 12 20 30 42 56 72 90]\n"
     ]
    }
   ],
   "source": [
    "a=np.arange(1,11)\n",
    "\n",
    "ma=np.outer(a.reshape(10,1),a)\n",
    "print(ma)\n",
    "\n",
    "#trace\n",
    "tr=np.sum(np.array([ma[i][i] for i in range(len(ma))]))\n",
    "print(tr)\n",
    "\n",
    "#antidiagonal\n",
    "antr=np.array([ma[len(ma)-i-1][i] for i in range(len(ma))])\n",
    "print(antr)\n",
    "\n",
    "#offset diagonal\n",
    "offs=np.array([ma[i][i+1] for i in range(len(ma)-1)])\n",
    "print(offs)"
   ]
  },
  {
   "cell_type": "markdown",
   "metadata": {},
   "source": [
    "6\\. Use broadcasting to create a grid of distances\n",
    "\n",
    "Route 66 crosses the following cities in the US: Chicago, Springfield, Saint-Louis, Tulsa, Oklahoma City, Amarillo, Santa Fe, Albuquerque, Flagstaff, Los Angeles\n",
    "The corresponding positions in miles are: 0, 198, 303, 736, 871, 1175, 1475, 1544, 1913, 2448\n",
    "\n",
    "  * Construct a 2D grid of distances among each city along Route 66\n",
    "  * Convert that in km (those savages...)"
   ]
  },
  {
   "cell_type": "code",
   "execution_count": 26,
   "metadata": {},
   "outputs": [
    {
     "name": "stdout",
     "output_type": "stream",
     "text": [
      "[[   0  198  303  736  871 1175 1475 1544 1913 2448]\n",
      " [ 198    0  105  538  673  977 1277 1346 1715 2250]\n",
      " [ 303  105    0  433  568  872 1172 1241 1610 2145]\n",
      " [ 736  538  433    0  135  439  739  808 1177 1712]\n",
      " [ 871  673  568  135    0  304  604  673 1042 1577]\n",
      " [1175  977  872  439  304    0  300  369  738 1273]\n",
      " [1475 1277 1172  739  604  300    0   69  438  973]\n",
      " [1544 1346 1241  808  673  369   69    0  369  904]\n",
      " [1913 1715 1610 1177 1042  738  438  369    0  535]\n",
      " [2448 2250 2145 1712 1577 1273  973  904  535    0]]\n",
      "\n",
      "\n",
      "[[    0.   319.   488.  1184.  1402.  1891.  2374.  2485.  3079.  3940.]\n",
      " [  319.     0.   169.   866.  1083.  1572.  2055.  2166.  2760.  3621.]\n",
      " [  488.   169.     0.   697.   914.  1403.  1886.  1997.  2591.  3452.]\n",
      " [ 1184.   866.   697.     0.   217.   707.  1189.  1300.  1894.  2755.]\n",
      " [ 1402.  1083.   914.   217.     0.   489.   972.  1083.  1677.  2538.]\n",
      " [ 1891.  1572.  1403.   707.   489.     0.   483.   594.  1188.  2049.]\n",
      " [ 2374.  2055.  1886.  1189.   972.   483.     0.   111.   705.  1566.]\n",
      " [ 2485.  2166.  1997.  1300.  1083.   594.   111.     0.   594.  1455.]\n",
      " [ 3079.  2760.  2591.  1894.  1677.  1188.   705.   594.     0.   861.]\n",
      " [ 3940.  3621.  3452.  2755.  2538.  2049.  1566.  1455.   861.     0.]]\n"
     ]
    }
   ],
   "source": [
    "d=[0,198,303,736,871,1175,1475,1544,1913,2448]\n",
    "\n",
    "savage_grid=np.array([[abs(d[i]-d[j]) for i in range(len(d))] for j in range(len(d))])\n",
    "print(savage_grid)\n",
    "\n",
    "print(\"\\n\")\n",
    "\n",
    "civilized_grid=np.round(savage_grid*1.609344)\n",
    "print(civilized_grid)"
   ]
  },
  {
   "cell_type": "markdown",
   "metadata": {},
   "source": [
    "7\\. Prime numbers sieve: compute the prime numbers in the 0-N (N=99 to start with) range with a sieve (mask).\n",
    "  * Construct a shape (100,) boolean array, the mask\n",
    "  * Identify the multiples of each number starting from 2 and set accordingly the corresponding mask element\n",
    "  * Apply the mask to obtain an array of ordered prime numbers\n",
    "  * Check the performances (timeit); how does it scale with N?\n",
    "  * Implement the optimization suggested in the [sieve of Eratosthenes](https://en.wikipedia.org/wiki/Sieve_of_Eratosthenes)"
   ]
  },
  {
   "cell_type": "code",
   "execution_count": 27,
   "metadata": {},
   "outputs": [
    {
     "name": "stdout",
     "output_type": "stream",
     "text": [
      "[ 2  3  5  7 11 13 17 19 23 29 31 37 41 43 47 53 59 61 67 71 73 79 83 89 97]\n",
      "[ 2  3  5  7 11 13 17 19 23 29 31 37 41 43 47 53 59 61 67 71 73 79 83 89 97]\n",
      "2.76 ms ± 19.1 µs per loop (mean ± std. dev. of 7 runs, 100 loops each)\n",
      "9.56 ms ± 239 µs per loop (mean ± std. dev. of 7 runs, 100 loops each)\n"
     ]
    }
   ],
   "source": [
    "N=100\n",
    "mask=np.ones(N, dtype=bool) #original sieve\n",
    "\n",
    "for j in range(2,N):\n",
    "    i=2\n",
    "    while i*j<N:\n",
    "        mask[j*i]=False\n",
    "        i+=1\n",
    "        \n",
    "#print(mask)\n",
    "\n",
    "\n",
    "prime=np.arange(N)\n",
    "#print(prime)\n",
    "#print(prime[mask])\n",
    "\n",
    "def prime(N):\n",
    "    mask=np.ones(N, dtype=bool) #original sieve\n",
    "    mask[0]=False\n",
    "    mask[1]=False\n",
    "    for j in range(2,N):\n",
    "        i=2\n",
    "        while i*j<N:\n",
    "            mask[j*i]=False\n",
    "            i+=1\n",
    "    prime=np.arange(N)\n",
    "    return prime[mask]\n",
    "\n",
    "print(prime(N))\n",
    "\n",
    "def era(N):\n",
    "    prime = np.arange(N)\n",
    "    n = 2\n",
    "    while n<N**0.5: #it is not necessary for n to go up to N; sqrt(N) is sufficient\n",
    "        if prime[n]!=0:\n",
    "            for i in range(n**2,N,n):\n",
    "                prime[i]=0\n",
    "        n+=1\n",
    "    p = [x for x in prime if x!=0 and x!=1]\n",
    "    return np.array(p)\n",
    "\n",
    "\n",
    "print(era(N))\n",
    "\n",
    "%timeit (era(10000))\n",
    "%timeit (prime(10000))"
   ]
  },
  {
   "cell_type": "markdown",
   "metadata": {},
   "source": [
    "8\\. Diffusion using random walk\n",
    "\n",
    "Consider a simple random walk process: at each step in time, a walker jumps right or left (+1 or -1) with equal probability. The goal is to find the typical distance from the origin of a random walker after a given amount of time. \n",
    "To do that, let's simulate many walkers and create a 2D array with each walker as a row and the actual time evolution as columns\n",
    "\n",
    "  * Take 1000 walkers and let them walk for 200 steps\n",
    "  * Use randint to create a 2D array of size walkers x steps with values -1 or 1\n",
    "  * Build the actual walking distances for each walker (i.e. another 2D array \"summing on each row\")\n",
    "  * Take the square of that 2D array (elementwise)\n",
    "  * Compute the mean of the squared distances at each step (i.e. the mean along the columns)\n",
    "  * Plot the average distances (sqrt(distance\\*\\*2)) as a function of time (step)\n",
    "  \n",
    "Did you get what you expected?\n",
    "\n",
    "# Answer\n",
    "\n",
    "The result is an almost linear behaviour with respect to time; this is exactly what is expected, as\n",
    "\n",
    "$$\n",
    "\\langle \\left( \\Delta x \\right)^2\\rangle = \\Delta t\n",
    "$$\n",
    "\n",
    "for a brownian motion like the one depicted here."
   ]
  },
  {
   "cell_type": "code",
   "execution_count": 28,
   "metadata": {},
   "outputs": [
    {
     "name": "stdout",
     "output_type": "stream",
     "text": [
      "0.322564\n"
     ]
    },
    {
     "data": {
      "image/png": "[encoded data removed]",
      "text/plain": [
       "<matplotlib.figure.Figure at 0x7f1c308914a8>"
      ]
     },
     "metadata": {},
     "output_type": "display_data"
    }
   ],
   "source": [
    "#pylab.rcParams['figure.figsize'] = (15, 10)\n",
    "\n",
    "\n",
    "walkers = 1000\n",
    "steps = 2000\n",
    "\n",
    "walk = np.array([2*np.random.randint(2, size=steps)-1 for i in range(walkers)]) #all walkers, all steps\n",
    "\n",
    "walk_dist = walk.cumsum(axis=1) #distance of each walker for each time step; cumulative sum\n",
    "\n",
    "sq_w_d =walk_dist**2 #square distance of each walker at each time step\n",
    "\n",
    "mean_sq_dist = sq_w_d.mean(axis=0) #mean along the columns (mean at each time step)\n",
    "\n",
    "st = np.arange(2000)\n",
    "\n",
    "#some realizations\n",
    "for i in range(10):\n",
    "    #realizations\n",
    "    plt.plot(st, walk_dist[2*i])\n",
    "    #reference functions\n",
    "    plt.plot(st, st**0.5, color='black') \n",
    "    plt.plot(st, -st**0.5, color='black') \n",
    "    plt.plot(st, st, color='black')\n",
    "    \n",
    "#average distances\n",
    "plt.plot(st, mean_sq_dist)\n",
    "\n",
    "\n",
    "\n",
    "\n",
    "    #the sqrt(step) function can be used as a reference when looking at brownian motion; most realizations lie between \n",
    "    #the + and - version of sqrt()\n",
    "    \n",
    "    \n",
    "    \n",
    "#calculation of the number of points outside the -sqrt,+sqrt interval\n",
    "\n",
    "fuori = np.array(np.absolute(walk_dist)-np.absolute(st**0.5)>0, dtype=int)\n",
    "mean = np.mean(fuori, axis=0) \n",
    "m = np.mean(mean)\n",
    "print(m) #initially, all points are outside; not very significant in a 2000 element average\n",
    "#mean number of steps which are outside the [-sqrt(steps), sqrt(steps)] interval; \n",
    "#really close to the expected value, which is 1-0.68=0.32.\n",
    "      "
   ]
  },
  {
   "cell_type": "markdown",
   "metadata": {},
   "source": [
    "9\\. Analyze a data file \n",
    "  * Download the population of hares, lynxes and carrots at the beginning of the last century.\n",
    "    ```python\n",
    "    ! wget https://www.dropbox.com/s/3vigxoqayo389uc/populations.txt\n",
    "    ```\n",
    "\n",
    "  * Check the content by looking within the file\n",
    "  * Load the data (use an appropriate numpy method) into a 2D array\n",
    "  * Create arrays out of the columns, the arrays being (in order): *year*, *hares*, *lynxes*, *carrots* \n",
    "  * Plot the 3 populations over the years\n",
    "  * Compute the main statistical properties of the dataset (mean, std, correlations, etc.)\n",
    "  * Which species has the highest population each year?\n",
    "\n",
    "Do you feel there is some evident correlation here? [Studies](https://www.enr.gov.nt.ca/en/services/lynx/lynx-snowshoe-hare-cycle) tend to believe so."
   ]
  },
  {
   "cell_type": "code",
   "execution_count": 29,
   "metadata": {},
   "outputs": [
    {
     "name": "stdout",
     "output_type": "stream",
     "text": [
      "mean 34080.952381\n",
      "mean 20166.6666667\n",
      "mean 42400.0\n",
      "std 20897.9064581\n",
      "std 16254.5915369\n",
      "std 3322.50622558\n",
      "correlations \n",
      " [[ 1.          0.07189206 -0.01660378]\n",
      " [ 0.07189206  1.         -0.68057717]\n",
      " [-0.01660378 -0.68057717  1.        ]]\n",
      "['carrots', 'carrots', 'hares', 'hares', 'lynxes', 'lynxes', 'carrots', 'carrots', 'carrots', 'carrots', 'carrots', 'carrots', 'hares', 'hares', 'hares', 'lynxes', 'carrots', 'carrots', 'carrots', 'carrots', 'carrots']\n"
     ]
    },
    {
     "data": {
      "image/png": "[encoded data removed]",
      "text/plain": [
       "<matplotlib.figure.Figure at 0x7f1c30876208>"
      ]
     },
     "metadata": {},
     "output_type": "display_data"
    }
   ],
   "source": [
    "data = np.loadtxt('populations.txt', dtype=float)\n",
    "dic = {0:'hares',1:'lynxes', 2:'carrots'}\n",
    "antidic= {v: k for k, v in dic.items()}\n",
    "\n",
    "year = data[::,0:1:]\n",
    "hares = data[::,1:2:]\n",
    "lynxes = data[::,2:3:]\n",
    "carrots = data[::,3::]\n",
    "\n",
    "plt.plot(year, hares, color='blue')\n",
    "plt.plot(year, lynxes, color='red')\n",
    "plt.plot(year, carrots, color='green')\n",
    "\n",
    "for function in ['mean','std']:\n",
    "    for array in [hares,lynxes,carrots]:\n",
    "        print (function, getattr(np, function)(array))\n",
    "        \n",
    "print('correlations','\\n',np.corrcoef(np.transpose(data[::,1::])))\n",
    "\n",
    "index = lambda x,y,z: 0 if (x>y and x>z) else 1 if (y>x and y>z) else 2 \n",
    "\n",
    "mass = list(dic[index(hares[i],lynxes[i],carrots[i])] for i in range(len(hares)))\n",
    "    \n",
    "print(mass)\n"
   ]
  },
  {
   "cell_type": "code",
   "execution_count": 30,
   "metadata": {},
   "outputs": [
    {
     "data": {
      "text/plain": [
       "[<matplotlib.lines.Line2D at 0x7f1c30813748>]"
      ]
     },
     "execution_count": 30,
     "metadata": {},
     "output_type": "execute_result"
    },
    {
     "data": {
      "image/png": "[encoded data removed]",
      "text/plain": [
       "<matplotlib.figure.Figure at 0x7f1c30877da0>"
      ]
     },
     "metadata": {},
     "output_type": "display_data"
    }
   ],
   "source": [
    "plt.plot(year, np.array([(antidic[mass[i]]) for i in range(len(mass))]), 'o')"
   ]
  },
  {
   "cell_type": "code",
   "execution_count": 31,
   "metadata": {},
   "outputs": [
    {
     "data": {
      "text/plain": [
       "[<matplotlib.lines.Line2D at 0x7f1c307c2e10>]"
      ]
     },
     "execution_count": 31,
     "metadata": {},
     "output_type": "execute_result"
    },
    {
     "data": {
      "image/png": "[encoded data removed]",
      "text/plain": [
       "<matplotlib.figure.Figure at 0x7f1c30750ef0>"
      ]
     },
     "metadata": {},
     "output_type": "display_data"
    }
   ],
   "source": [
    "plt.plot(year, mass, 'o')"
   ]
  }
 ],
 "metadata": {
  "kernelspec": {
   "display_name": "Python 3",
   "language": "python",
   "name": "python3"
  },
  "language_info": {
   "codemirror_mode": {
    "name": "ipython",
    "version": 3
   },
   "file_extension": ".py",
   "mimetype": "text/x-python",
   "name": "python",
   "nbconvert_exporter": "python",
   "pygments_lexer": "ipython3",
   "version": "3.6.3"
  }
 },
 "nbformat": 4,
 "nbformat_minor": 2
}
