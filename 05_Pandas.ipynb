{
 "cells": [
  {
   "cell_type": "markdown",
   "metadata": {},
   "source": [
    "# Pandas\n",
    "\n",
    "The `numpy` module is excellent for numerical computations, but to handle missing data or arrays with mixed types takes more work. The `pandas` module is currently the most widely used tool for data manipulation, providing high-performance, easy-to-use data structures and advanced data analysis tools.\n",
    "\n",
    "In particular `pandas` features:\n",
    "\n",
    "* A fast and efficient \"DataFrame\" object for data manipulation with integrated indexing;\n",
    "* Tools for reading and writing data between in-memory data structures and different formats (CSV, Excel, SQL, HDF5);\n",
    "* Intelligent data alignment and integrated handling of missing data;\n",
    "* Intelligent label-based slicing, fancy indexing, and subsetting of large data sets;\n",
    "* Aggregating or transforming data with a powerful \"group-by\" engine; \n",
    "* High performance merging and joining of data sets;\n",
    "* Hierarchical axis indexing provides an intuitive way of working with high-dimensional data in a lower-dimensional data structure;\n",
    "* Time series-functionalities;\n",
    "* Highly optimized for performance, with critical code paths written in Cython or C.\n"
   ]
  },
  {
   "cell_type": "code",
   "execution_count": 30,
   "metadata": {
    "collapsed": true
   },
   "outputs": [],
   "source": [
    "import pandas as pd\n",
    "import numpy as np"
   ]
  },
  {
   "cell_type": "markdown",
   "metadata": {},
   "source": [
    "## Series\n",
    "\n",
    "Series are completely equivalent to 1D array but with axis labels and the possibility to store heterogeneous elements. Of paramount importance are the time-series, used to define time evolutions of a phenomenon. \n"
   ]
  },
  {
   "cell_type": "code",
   "execution_count": 31,
   "metadata": {},
   "outputs": [
    {
     "name": "stdout",
     "output_type": "stream",
     "text": [
      "a    0.0\n",
      "b    0.5\n",
      "c    1.0\n",
      "d    1.5\n",
      "e    2.0\n",
      "f    2.5\n",
      "g    3.0\n",
      "h    3.5\n",
      "i    4.0\n",
      "j    4.5\n",
      "dtype: float64 \n",
      "\n",
      "Index(['a', 'b', 'c', 'd', 'e', 'f', 'g', 'h', 'i', 'j'], dtype='object') \n",
      "\n",
      "[ 0.   0.5  1.   1.5  2.   2.5  3.   3.5  4.   4.5] <class 'numpy.ndarray'> \n",
      "\n",
      "2.5 2.5 3.5 \n",
      "\n",
      "d    1.5\n",
      "f    2.5\n",
      "h    3.5\n",
      "dtype: float64 \n",
      "\n"
     ]
    }
   ],
   "source": [
    "from string import ascii_lowercase as letters\n",
    "\n",
    "# Creating a series, accessing indexes, values and values by their index \n",
    "xs = pd.Series(np.arange(10)*0.5, index=tuple(letters[:10]))\n",
    "print (xs,'\\n')\n",
    "print (xs.index,'\\n')\n",
    "# Values of the Series are actually a numpy array\n",
    "print (xs.values, type(xs.values),'\\n')\n",
    "print (xs['f'], xs.f, xs.h, '\\n')\n",
    "print (xs[['d', 'f', 'h']], '\\n')"
   ]
  },
  {
   "cell_type": "code",
   "execution_count": 32,
   "metadata": {},
   "outputs": [
    {
     "name": "stdout",
     "output_type": "stream",
     "text": [
      "a    0.0\n",
      "b    0.5\n",
      "c    1.0\n",
      "dtype: float64 \n",
      "\n",
      "h    3.5\n",
      "i    4.0\n",
      "j    4.5\n",
      "dtype: float64 \n",
      "\n",
      "a    0.0\n",
      "d    1.5\n",
      "g    3.0\n",
      "j    4.5\n",
      "dtype: float64 \n",
      "\n",
      "h    3.5\n",
      "i    4.0\n",
      "j    4.5\n",
      "dtype: float64 \n",
      "\n",
      "a     1.000000\n",
      "b     1.648721\n",
      "c     2.718282\n",
      "d     4.481689\n",
      "e     7.389056\n",
      "f    12.182494\n",
      "g    20.085537\n",
      "h    33.115452\n",
      "i    54.598150\n",
      "j    90.017131\n",
      "dtype: float64 \n",
      "\n",
      "2.25 1.4361406616345072 \n",
      "\n"
     ]
    }
   ],
   "source": [
    "# Extracting elements and operations: same as numpy array\n",
    "print (xs[:3],'\\n')\n",
    "print (xs[7:], '\\n')\n",
    "print (xs[::3], '\\n')\n",
    "print (xs[xs>3], '\\n')\n",
    "print (np.exp(xs), '\\n')\n",
    "print (np.mean(xs), np.std(xs), '\\n')"
   ]
  },
  {
   "cell_type": "code",
   "execution_count": 33,
   "metadata": {},
   "outputs": [
    {
     "data": {
      "text/plain": [
       "a       cat\n",
       "b         1\n",
       "c    [2, 3]\n",
       "dtype: object"
      ]
     },
     "execution_count": 33,
     "metadata": {},
     "output_type": "execute_result"
    }
   ],
   "source": [
    "# Series can be created from python dictionary too.\n",
    "# Not that the elements can be whatever!\n",
    "d = {'b' : 1, 'a' : 'cat', 'c' : [2,3]}\n",
    "pd.Series(d)\n",
    "\n"
   ]
  },
  {
   "cell_type": "markdown",
   "metadata": {},
   "source": [
    "A key difference between Series and ndarray is that operations between Series automatically align the data based on label. Thus, you can write computations without giving consideration to whether the Series involved have the same labels."
   ]
  },
  {
   "cell_type": "code",
   "execution_count": 34,
   "metadata": {},
   "outputs": [
    {
     "data": {
      "text/plain": [
       "a         NaN\n",
       "b   -1.570810\n",
       "c    2.259636\n",
       "d    1.712644\n",
       "e         NaN\n",
       "dtype: float64"
      ]
     },
     "execution_count": 34,
     "metadata": {},
     "output_type": "execute_result"
    }
   ],
   "source": [
    "s = pd.Series(np.random.randn(5), index=tuple(letters[:5]))\n",
    "s[1:] + s[:-1]"
   ]
  },
  {
   "cell_type": "markdown",
   "metadata": {},
   "source": [
    "### Time series\n",
    "\n",
    "Time series are very often used to profile the behaviour of a quantity as a function of time. Pandas as a special index for that, `DatetimeIndex`, that can be created e.g. with the function `pd.data_range()`"
   ]
  },
  {
   "cell_type": "code",
   "execution_count": 35,
   "metadata": {},
   "outputs": [
    {
     "name": "stdout",
     "output_type": "stream",
     "text": [
      "2018-11-19 14:45:10.000015\n",
      "19/11/2018 14:45:00\n",
      "DatetimeIndex(['2018-11-19 14:45:00', '2018-11-20 14:45:00',\n",
      "               '2018-11-21 14:45:00', '2018-11-22 14:45:00',\n",
      "               '2018-11-23 14:45:00', '2018-11-24 14:45:00',\n",
      "               '2018-11-25 14:45:00'],\n",
      "              dtype='datetime64[ns]', freq='D')\n",
      "DatetimeIndex(['2018-11-19 14:45:00', '2018-11-19 14:45:01',\n",
      "               '2018-11-19 14:45:02', '2018-11-19 14:45:03',\n",
      "               '2018-11-19 14:45:04', '2018-11-19 14:45:05',\n",
      "               '2018-11-19 14:45:06', '2018-11-19 14:45:07',\n",
      "               '2018-11-19 14:45:08', '2018-11-19 14:45:09',\n",
      "               ...\n",
      "               '2018-11-19 15:44:50', '2018-11-19 15:44:51',\n",
      "               '2018-11-19 15:44:52', '2018-11-19 15:44:53',\n",
      "               '2018-11-19 15:44:54', '2018-11-19 15:44:55',\n",
      "               '2018-11-19 15:44:56', '2018-11-19 15:44:57',\n",
      "               '2018-11-19 15:44:58', '2018-11-19 15:44:59'],\n",
      "              dtype='datetime64[ns]', length=3600, freq='S')\n"
     ]
    }
   ],
   "source": [
    "# to define a date, the datetime module is very useful\n",
    "import datetime as dt\n",
    "date = dt.date.today()\n",
    "date = dt.datetime(2018,11,19,14,45,10,15)\n",
    "print (date)\n",
    "\n",
    "# otherwise, several notations are interpreted too\n",
    "date = 'Nov 19 2018'\n",
    "date = '19/11/2018 14:45:00'\n",
    "print (date)\n",
    "\n",
    "days = pd.date_range(date, periods=7, freq='D')\n",
    "print (days)\n",
    "\n",
    "seconds = pd.date_range(date, periods=3600, freq='s')\n",
    "print (seconds)\n"
   ]
  },
  {
   "cell_type": "markdown",
   "metadata": {},
   "source": [
    "To learn more about the frequency strings, please see this [link](http://pandas.pydata.org/pandas-docs/stable/timeseries.html#offset-aliases)\n",
    "\n",
    "\n",
    "Timestamped data is the most basic type of time series data that associates values with points in time. For pandas objects it means using the points in time.\n",
    "\n",
    "functions like `pd.to_datetime` can be used, for instance, when reading information as string from a dataset"
   ]
  },
  {
   "cell_type": "code",
   "execution_count": 36,
   "metadata": {},
   "outputs": [
    {
     "name": "stdout",
     "output_type": "stream",
     "text": [
      "1542585600000000000\n",
      "2010-11-12 00:00:00\n",
      "2010-11-12 00:00:00\n"
     ]
    }
   ],
   "source": [
    "tstamp = pd.Timestamp(dt.datetime(2018, 11, 19))\n",
    "\n",
    "# internally it counts the nanoseconds from January 1st 19\n",
    "#tstamp = pd.Timestamp(dt.datetime(1970, 1, 1, 0, 0, 0, 1))\n",
    "print(tstamp.value)\n",
    "\n",
    "# when creating a timestamp the format can be explicitly passed\n",
    "print (pd.to_datetime('2010/11/12', format='%Y/%m/%d'))\n",
    "print (pd.to_datetime('12-11-2010 00:00', format='%d-%m-%Y %H:%M'))\n"
   ]
  },
  {
   "cell_type": "markdown",
   "metadata": {},
   "source": [
    "A standard series can be created and (range of) elements can be used as indexes"
   ]
  },
  {
   "cell_type": "code",
   "execution_count": 37,
   "metadata": {
    "scrolled": true
   },
   "outputs": [
    {
     "name": "stdout",
     "output_type": "stream",
     "text": [
      "2018-11-19 14:45:00     8.721889\n",
      "2018-11-20 14:45:00     9.087380\n",
      "2018-11-21 14:45:00     9.677123\n",
      "2018-11-22 14:45:00    10.230584\n",
      "Freq: D, dtype: float64 \n",
      "\n",
      "2018-11-19 14:45:00    8.721889\n",
      "2018-11-20 14:45:00    9.087380\n",
      "2018-11-21 14:45:00    9.677123\n",
      "Freq: D, dtype: float64 \n",
      "\n"
     ]
    }
   ],
   "source": [
    "tseries = pd.Series(np.random.normal(10, 1, len(days)), index=days)\n",
    "# Extracting elements\n",
    "print (tseries[0:4], '\\n')\n",
    "print (tseries['2018-11-19':'2018-11-21'], '\\n') # Note - includes end time\n"
   ]
  },
  {
   "cell_type": "markdown",
   "metadata": {},
   "source": [
    "`pd.to_datetime` can also be used to create a `DatetimeIndex`:"
   ]
  },
  {
   "cell_type": "code",
   "execution_count": 38,
   "metadata": {},
   "outputs": [
    {
     "data": {
      "text/plain": [
       "DatetimeIndex(['1980-02-04', '1980-02-05', '1980-02-06'], dtype='datetime64[ns]', freq=None)"
      ]
     },
     "execution_count": 38,
     "metadata": {},
     "output_type": "execute_result"
    }
   ],
   "source": [
    "pd.to_datetime([1, 2, 3], unit='D', origin=pd.Timestamp('1980-02-03'))"
   ]
  },
  {
   "cell_type": "markdown",
   "metadata": {},
   "source": [
    "## DataFrame\n",
    "\n",
    "A pandas DataFrame is like a simple tabular spreadsheet. For future reference (or for people already familiar with R), a pandas DataFrame is very similar to the R DataFrame.\n",
    "\n",
    "Each column in a DataFrame is a Series object.\n",
    "\n",
    "The element can be whatever, missing data are dealt with too (as NaN)"
   ]
  },
  {
   "cell_type": "markdown",
   "metadata": {},
   "source": [
    "### DataFrame creation\n",
    "\n",
    "A DataFrame can be created implicitly, with, e.g., a DatatimeIndex object as index:"
   ]
  },
  {
   "cell_type": "code",
   "execution_count": 39,
   "metadata": {},
   "outputs": [
    {
     "data": {
      "text/html": [
       "<div>\n",
       "<style>\n",
       "    .dataframe thead tr:only-child th {\n",
       "        text-align: right;\n",
       "    }\n",
       "\n",
       "    .dataframe thead th {\n",
       "        text-align: left;\n",
       "    }\n",
       "\n",
       "    .dataframe tbody tr th {\n",
       "        vertical-align: top;\n",
       "    }\n",
       "</style>\n",
       "<table border=\"1\" class=\"dataframe\">\n",
       "  <thead>\n",
       "    <tr style=\"text-align: right;\">\n",
       "      <th></th>\n",
       "      <th>A</th>\n",
       "      <th>B</th>\n",
       "      <th>C</th>\n",
       "      <th>D</th>\n",
       "    </tr>\n",
       "  </thead>\n",
       "  <tbody>\n",
       "    <tr>\n",
       "      <th>2018-11-19 14:45:00</th>\n",
       "      <td>-0.171189</td>\n",
       "      <td>0.137713</td>\n",
       "      <td>0.505305</td>\n",
       "      <td>-0.352595</td>\n",
       "    </tr>\n",
       "    <tr>\n",
       "      <th>2018-11-19 15:45:00</th>\n",
       "      <td>-0.865478</td>\n",
       "      <td>-0.545589</td>\n",
       "      <td>-0.324306</td>\n",
       "      <td>-0.215089</td>\n",
       "    </tr>\n",
       "    <tr>\n",
       "      <th>2018-11-19 16:45:00</th>\n",
       "      <td>0.208452</td>\n",
       "      <td>0.424805</td>\n",
       "      <td>0.588758</td>\n",
       "      <td>1.220668</td>\n",
       "    </tr>\n",
       "    <tr>\n",
       "      <th>2018-11-19 17:45:00</th>\n",
       "      <td>-0.626475</td>\n",
       "      <td>-0.607838</td>\n",
       "      <td>-0.019928</td>\n",
       "      <td>-1.233339</td>\n",
       "    </tr>\n",
       "    <tr>\n",
       "      <th>2018-11-19 18:45:00</th>\n",
       "      <td>-2.028591</td>\n",
       "      <td>-1.037120</td>\n",
       "      <td>-0.714983</td>\n",
       "      <td>-0.666125</td>\n",
       "    </tr>\n",
       "    <tr>\n",
       "      <th>2018-11-19 19:45:00</th>\n",
       "      <td>-1.730866</td>\n",
       "      <td>0.015317</td>\n",
       "      <td>-0.033431</td>\n",
       "      <td>-0.456918</td>\n",
       "    </tr>\n",
       "    <tr>\n",
       "      <th>2018-11-19 20:45:00</th>\n",
       "      <td>-0.060804</td>\n",
       "      <td>-1.334582</td>\n",
       "      <td>-0.575089</td>\n",
       "      <td>-0.400279</td>\n",
       "    </tr>\n",
       "    <tr>\n",
       "      <th>2018-11-19 21:45:00</th>\n",
       "      <td>0.456016</td>\n",
       "      <td>-0.578104</td>\n",
       "      <td>-1.012815</td>\n",
       "      <td>0.232728</td>\n",
       "    </tr>\n",
       "    <tr>\n",
       "      <th>2018-11-19 22:45:00</th>\n",
       "      <td>-0.573528</td>\n",
       "      <td>-0.224173</td>\n",
       "      <td>-0.039968</td>\n",
       "      <td>2.019695</td>\n",
       "    </tr>\n",
       "    <tr>\n",
       "      <th>2018-11-19 23:45:00</th>\n",
       "      <td>-2.466426</td>\n",
       "      <td>1.764100</td>\n",
       "      <td>0.635819</td>\n",
       "      <td>0.708216</td>\n",
       "    </tr>\n",
       "  </tbody>\n",
       "</table>\n",
       "</div>"
      ],
      "text/plain": [
       "                            A         B         C         D\n",
       "2018-11-19 14:45:00 -0.171189  0.137713  0.505305 -0.352595\n",
       "2018-11-19 15:45:00 -0.865478 -0.545589 -0.324306 -0.215089\n",
       "2018-11-19 16:45:00  0.208452  0.424805  0.588758  1.220668\n",
       "2018-11-19 17:45:00 -0.626475 -0.607838 -0.019928 -1.233339\n",
       "2018-11-19 18:45:00 -2.028591 -1.037120 -0.714983 -0.666125\n",
       "2018-11-19 19:45:00 -1.730866  0.015317 -0.033431 -0.456918\n",
       "2018-11-19 20:45:00 -0.060804 -1.334582 -0.575089 -0.400279\n",
       "2018-11-19 21:45:00  0.456016 -0.578104 -1.012815  0.232728\n",
       "2018-11-19 22:45:00 -0.573528 -0.224173 -0.039968  2.019695\n",
       "2018-11-19 23:45:00 -2.466426  1.764100  0.635819  0.708216"
      ]
     },
     "execution_count": 39,
     "metadata": {},
     "output_type": "execute_result"
    }
   ],
   "source": [
    "entries=10\n",
    "dates=pd.date_range('19/11/2018 14:45:00',freq='h', periods=entries)\n",
    "df = pd.DataFrame(np.random.randn(entries,4), index=dates, columns=['A','B','C','D'])\n",
    "df\n"
   ]
  },
  {
   "cell_type": "markdown",
   "metadata": {},
   "source": [
    "or by means of a dictionary:\n"
   ]
  },
  {
   "cell_type": "code",
   "execution_count": 40,
   "metadata": {
    "collapsed": true
   },
   "outputs": [],
   "source": [
    "df2 = pd.DataFrame(\n",
    "    { 'A' : 1.,\n",
    "      'B' : pd.Timestamp('20130102'),\n",
    "      'C' : pd.Series(1,index=range(4),dtype='float32'),\n",
    "      'D' : np.arange(7,11),\n",
    "      'E' : pd.Categorical([\"test\",\"train\",\"test\",\"train\"]),\n",
    "    }\n",
    "    )\n",
    "   "
   ]
  },
  {
   "cell_type": "code",
   "execution_count": 41,
   "metadata": {},
   "outputs": [
    {
     "data": {
      "text/html": [
       "<div>\n",
       "<style>\n",
       "    .dataframe thead tr:only-child th {\n",
       "        text-align: right;\n",
       "    }\n",
       "\n",
       "    .dataframe thead th {\n",
       "        text-align: left;\n",
       "    }\n",
       "\n",
       "    .dataframe tbody tr th {\n",
       "        vertical-align: top;\n",
       "    }\n",
       "</style>\n",
       "<table border=\"1\" class=\"dataframe\">\n",
       "  <thead>\n",
       "    <tr style=\"text-align: right;\">\n",
       "      <th></th>\n",
       "      <th>A</th>\n",
       "      <th>B</th>\n",
       "      <th>C</th>\n",
       "      <th>D</th>\n",
       "      <th>E</th>\n",
       "    </tr>\n",
       "  </thead>\n",
       "  <tbody>\n",
       "    <tr>\n",
       "      <th>0</th>\n",
       "      <td>1.0</td>\n",
       "      <td>2013-01-02</td>\n",
       "      <td>1.0</td>\n",
       "      <td>7</td>\n",
       "      <td>test</td>\n",
       "    </tr>\n",
       "    <tr>\n",
       "      <th>1</th>\n",
       "      <td>1.0</td>\n",
       "      <td>2013-01-02</td>\n",
       "      <td>1.0</td>\n",
       "      <td>8</td>\n",
       "      <td>train</td>\n",
       "    </tr>\n",
       "    <tr>\n",
       "      <th>2</th>\n",
       "      <td>1.0</td>\n",
       "      <td>2013-01-02</td>\n",
       "      <td>1.0</td>\n",
       "      <td>9</td>\n",
       "      <td>test</td>\n",
       "    </tr>\n",
       "    <tr>\n",
       "      <th>3</th>\n",
       "      <td>1.0</td>\n",
       "      <td>2013-01-02</td>\n",
       "      <td>1.0</td>\n",
       "      <td>10</td>\n",
       "      <td>train</td>\n",
       "    </tr>\n",
       "  </tbody>\n",
       "</table>\n",
       "</div>"
      ],
      "text/plain": [
       "     A          B    C   D      E\n",
       "0  1.0 2013-01-02  1.0   7   test\n",
       "1  1.0 2013-01-02  1.0   8  train\n",
       "2  1.0 2013-01-02  1.0   9   test\n",
       "3  1.0 2013-01-02  1.0  10  train"
      ]
     },
     "execution_count": 41,
     "metadata": {},
     "output_type": "execute_result"
    }
   ],
   "source": [
    "df2"
   ]
  },
  {
   "cell_type": "markdown",
   "metadata": {},
   "source": [
    "### Viewing Data"
   ]
  },
  {
   "cell_type": "code",
   "execution_count": 42,
   "metadata": {},
   "outputs": [
    {
     "data": {
      "text/html": [
       "<div>\n",
       "<style>\n",
       "    .dataframe thead tr:only-child th {\n",
       "        text-align: right;\n",
       "    }\n",
       "\n",
       "    .dataframe thead th {\n",
       "        text-align: left;\n",
       "    }\n",
       "\n",
       "    .dataframe tbody tr th {\n",
       "        vertical-align: top;\n",
       "    }\n",
       "</style>\n",
       "<table border=\"1\" class=\"dataframe\">\n",
       "  <thead>\n",
       "    <tr style=\"text-align: right;\">\n",
       "      <th></th>\n",
       "      <th>A</th>\n",
       "      <th>B</th>\n",
       "      <th>C</th>\n",
       "      <th>D</th>\n",
       "    </tr>\n",
       "  </thead>\n",
       "  <tbody>\n",
       "    <tr>\n",
       "      <th>2018-11-19 14:45:00</th>\n",
       "      <td>-0.171189</td>\n",
       "      <td>0.137713</td>\n",
       "      <td>0.505305</td>\n",
       "      <td>-0.352595</td>\n",
       "    </tr>\n",
       "    <tr>\n",
       "      <th>2018-11-19 15:45:00</th>\n",
       "      <td>-0.865478</td>\n",
       "      <td>-0.545589</td>\n",
       "      <td>-0.324306</td>\n",
       "      <td>-0.215089</td>\n",
       "    </tr>\n",
       "    <tr>\n",
       "      <th>2018-11-19 16:45:00</th>\n",
       "      <td>0.208452</td>\n",
       "      <td>0.424805</td>\n",
       "      <td>0.588758</td>\n",
       "      <td>1.220668</td>\n",
       "    </tr>\n",
       "    <tr>\n",
       "      <th>2018-11-19 17:45:00</th>\n",
       "      <td>-0.626475</td>\n",
       "      <td>-0.607838</td>\n",
       "      <td>-0.019928</td>\n",
       "      <td>-1.233339</td>\n",
       "    </tr>\n",
       "    <tr>\n",
       "      <th>2018-11-19 18:45:00</th>\n",
       "      <td>-2.028591</td>\n",
       "      <td>-1.037120</td>\n",
       "      <td>-0.714983</td>\n",
       "      <td>-0.666125</td>\n",
       "    </tr>\n",
       "  </tbody>\n",
       "</table>\n",
       "</div>"
      ],
      "text/plain": [
       "                            A         B         C         D\n",
       "2018-11-19 14:45:00 -0.171189  0.137713  0.505305 -0.352595\n",
       "2018-11-19 15:45:00 -0.865478 -0.545589 -0.324306 -0.215089\n",
       "2018-11-19 16:45:00  0.208452  0.424805  0.588758  1.220668\n",
       "2018-11-19 17:45:00 -0.626475 -0.607838 -0.019928 -1.233339\n",
       "2018-11-19 18:45:00 -2.028591 -1.037120 -0.714983 -0.666125"
      ]
     },
     "execution_count": 42,
     "metadata": {},
     "output_type": "execute_result"
    }
   ],
   "source": [
    "df.head()"
   ]
  },
  {
   "cell_type": "code",
   "execution_count": 43,
   "metadata": {},
   "outputs": [
    {
     "data": {
      "text/html": [
       "<div>\n",
       "<style>\n",
       "    .dataframe thead tr:only-child th {\n",
       "        text-align: right;\n",
       "    }\n",
       "\n",
       "    .dataframe thead th {\n",
       "        text-align: left;\n",
       "    }\n",
       "\n",
       "    .dataframe tbody tr th {\n",
       "        vertical-align: top;\n",
       "    }\n",
       "</style>\n",
       "<table border=\"1\" class=\"dataframe\">\n",
       "  <thead>\n",
       "    <tr style=\"text-align: right;\">\n",
       "      <th></th>\n",
       "      <th>A</th>\n",
       "      <th>B</th>\n",
       "      <th>C</th>\n",
       "      <th>D</th>\n",
       "    </tr>\n",
       "  </thead>\n",
       "  <tbody>\n",
       "    <tr>\n",
       "      <th>2018-11-19 20:45:00</th>\n",
       "      <td>-0.060804</td>\n",
       "      <td>-1.334582</td>\n",
       "      <td>-0.575089</td>\n",
       "      <td>-0.400279</td>\n",
       "    </tr>\n",
       "    <tr>\n",
       "      <th>2018-11-19 21:45:00</th>\n",
       "      <td>0.456016</td>\n",
       "      <td>-0.578104</td>\n",
       "      <td>-1.012815</td>\n",
       "      <td>0.232728</td>\n",
       "    </tr>\n",
       "    <tr>\n",
       "      <th>2018-11-19 22:45:00</th>\n",
       "      <td>-0.573528</td>\n",
       "      <td>-0.224173</td>\n",
       "      <td>-0.039968</td>\n",
       "      <td>2.019695</td>\n",
       "    </tr>\n",
       "    <tr>\n",
       "      <th>2018-11-19 23:45:00</th>\n",
       "      <td>-2.466426</td>\n",
       "      <td>1.764100</td>\n",
       "      <td>0.635819</td>\n",
       "      <td>0.708216</td>\n",
       "    </tr>\n",
       "  </tbody>\n",
       "</table>\n",
       "</div>"
      ],
      "text/plain": [
       "                            A         B         C         D\n",
       "2018-11-19 20:45:00 -0.060804 -1.334582 -0.575089 -0.400279\n",
       "2018-11-19 21:45:00  0.456016 -0.578104 -1.012815  0.232728\n",
       "2018-11-19 22:45:00 -0.573528 -0.224173 -0.039968  2.019695\n",
       "2018-11-19 23:45:00 -2.466426  1.764100  0.635819  0.708216"
      ]
     },
     "execution_count": 43,
     "metadata": {},
     "output_type": "execute_result"
    }
   ],
   "source": [
    "df.tail(4)"
   ]
  },
  {
   "cell_type": "code",
   "execution_count": 44,
   "metadata": {},
   "outputs": [
    {
     "data": {
      "text/plain": [
       "DatetimeIndex(['2018-11-19 14:45:00', '2018-11-19 15:45:00',\n",
       "               '2018-11-19 16:45:00', '2018-11-19 17:45:00',\n",
       "               '2018-11-19 18:45:00', '2018-11-19 19:45:00',\n",
       "               '2018-11-19 20:45:00', '2018-11-19 21:45:00',\n",
       "               '2018-11-19 22:45:00', '2018-11-19 23:45:00'],\n",
       "              dtype='datetime64[ns]', freq='H')"
      ]
     },
     "execution_count": 44,
     "metadata": {},
     "output_type": "execute_result"
    }
   ],
   "source": [
    "df.index"
   ]
  },
  {
   "cell_type": "code",
   "execution_count": 45,
   "metadata": {},
   "outputs": [
    {
     "data": {
      "text/plain": [
       "Index(['A', 'B', 'C', 'D'], dtype='object')"
      ]
     },
     "execution_count": 45,
     "metadata": {},
     "output_type": "execute_result"
    }
   ],
   "source": [
    "df.columns"
   ]
  },
  {
   "cell_type": "code",
   "execution_count": 46,
   "metadata": {},
   "outputs": [
    {
     "data": {
      "text/plain": [
       "array([[-0.17118945,  0.13771345,  0.50530481, -0.35259545],\n",
       "       [-0.86547784, -0.54558919, -0.32430575, -0.21508854],\n",
       "       [ 0.2084519 ,  0.42480491,  0.58875842,  1.22066762],\n",
       "       [-0.62647484, -0.6078377 , -0.01992822, -1.23333886],\n",
       "       [-2.02859121, -1.0371197 , -0.71498261, -0.66612472],\n",
       "       [-1.73086613,  0.0153166 , -0.03343059, -0.45691755],\n",
       "       [-0.06080362, -1.33458179, -0.57508864, -0.40027873],\n",
       "       [ 0.45601629, -0.57810394, -1.01281525,  0.2327283 ],\n",
       "       [-0.57352772, -0.22417274, -0.03996833,  2.0196949 ],\n",
       "       [-2.46642611,  1.76409979,  0.63581876,  0.70821628]])"
      ]
     },
     "execution_count": 46,
     "metadata": {},
     "output_type": "execute_result"
    }
   ],
   "source": [
    "df.values"
   ]
  },
  {
   "cell_type": "code",
   "execution_count": 47,
   "metadata": {},
   "outputs": [
    {
     "data": {
      "text/html": [
       "<div>\n",
       "<style>\n",
       "    .dataframe thead tr:only-child th {\n",
       "        text-align: right;\n",
       "    }\n",
       "\n",
       "    .dataframe thead th {\n",
       "        text-align: left;\n",
       "    }\n",
       "\n",
       "    .dataframe tbody tr th {\n",
       "        vertical-align: top;\n",
       "    }\n",
       "</style>\n",
       "<table border=\"1\" class=\"dataframe\">\n",
       "  <thead>\n",
       "    <tr style=\"text-align: right;\">\n",
       "      <th></th>\n",
       "      <th>A</th>\n",
       "      <th>B</th>\n",
       "      <th>C</th>\n",
       "      <th>D</th>\n",
       "    </tr>\n",
       "  </thead>\n",
       "  <tbody>\n",
       "    <tr>\n",
       "      <th>count</th>\n",
       "      <td>10.000000</td>\n",
       "      <td>10.000000</td>\n",
       "      <td>10.000000</td>\n",
       "      <td>10.000000</td>\n",
       "    </tr>\n",
       "    <tr>\n",
       "      <th>mean</th>\n",
       "      <td>-0.785889</td>\n",
       "      <td>-0.198547</td>\n",
       "      <td>-0.099064</td>\n",
       "      <td>0.085696</td>\n",
       "    </tr>\n",
       "    <tr>\n",
       "      <th>std</th>\n",
       "      <td>0.987308</td>\n",
       "      <td>0.870875</td>\n",
       "      <td>0.566089</td>\n",
       "      <td>0.975017</td>\n",
       "    </tr>\n",
       "    <tr>\n",
       "      <th>min</th>\n",
       "      <td>-2.466426</td>\n",
       "      <td>-1.334582</td>\n",
       "      <td>-1.012815</td>\n",
       "      <td>-1.233339</td>\n",
       "    </tr>\n",
       "    <tr>\n",
       "      <th>25%</th>\n",
       "      <td>-1.514519</td>\n",
       "      <td>-0.600404</td>\n",
       "      <td>-0.512393</td>\n",
       "      <td>-0.442758</td>\n",
       "    </tr>\n",
       "    <tr>\n",
       "      <th>50%</th>\n",
       "      <td>-0.600001</td>\n",
       "      <td>-0.384881</td>\n",
       "      <td>-0.036699</td>\n",
       "      <td>-0.283842</td>\n",
       "    </tr>\n",
       "    <tr>\n",
       "      <th>75%</th>\n",
       "      <td>-0.088400</td>\n",
       "      <td>0.107114</td>\n",
       "      <td>0.373997</td>\n",
       "      <td>0.589344</td>\n",
       "    </tr>\n",
       "    <tr>\n",
       "      <th>max</th>\n",
       "      <td>0.456016</td>\n",
       "      <td>1.764100</td>\n",
       "      <td>0.635819</td>\n",
       "      <td>2.019695</td>\n",
       "    </tr>\n",
       "  </tbody>\n",
       "</table>\n",
       "</div>"
      ],
      "text/plain": [
       "               A          B          C          D\n",
       "count  10.000000  10.000000  10.000000  10.000000\n",
       "mean   -0.785889  -0.198547  -0.099064   0.085696\n",
       "std     0.987308   0.870875   0.566089   0.975017\n",
       "min    -2.466426  -1.334582  -1.012815  -1.233339\n",
       "25%    -1.514519  -0.600404  -0.512393  -0.442758\n",
       "50%    -0.600001  -0.384881  -0.036699  -0.283842\n",
       "75%    -0.088400   0.107114   0.373997   0.589344\n",
       "max     0.456016   1.764100   0.635819   2.019695"
      ]
     },
     "execution_count": 47,
     "metadata": {},
     "output_type": "execute_result"
    }
   ],
   "source": [
    "df.describe()"
   ]
  },
  {
   "cell_type": "code",
   "execution_count": 48,
   "metadata": {},
   "outputs": [
    {
     "data": {
      "text/html": [
       "<div>\n",
       "<style>\n",
       "    .dataframe thead tr:only-child th {\n",
       "        text-align: right;\n",
       "    }\n",
       "\n",
       "    .dataframe thead th {\n",
       "        text-align: left;\n",
       "    }\n",
       "\n",
       "    .dataframe tbody tr th {\n",
       "        vertical-align: top;\n",
       "    }\n",
       "</style>\n",
       "<table border=\"1\" class=\"dataframe\">\n",
       "  <thead>\n",
       "    <tr style=\"text-align: right;\">\n",
       "      <th></th>\n",
       "      <th>2018-11-19 14:45:00</th>\n",
       "      <th>2018-11-19 15:45:00</th>\n",
       "      <th>2018-11-19 16:45:00</th>\n",
       "      <th>2018-11-19 17:45:00</th>\n",
       "      <th>2018-11-19 18:45:00</th>\n",
       "      <th>2018-11-19 19:45:00</th>\n",
       "      <th>2018-11-19 20:45:00</th>\n",
       "      <th>2018-11-19 21:45:00</th>\n",
       "      <th>2018-11-19 22:45:00</th>\n",
       "      <th>2018-11-19 23:45:00</th>\n",
       "    </tr>\n",
       "  </thead>\n",
       "  <tbody>\n",
       "    <tr>\n",
       "      <th>A</th>\n",
       "      <td>-0.171189</td>\n",
       "      <td>-0.865478</td>\n",
       "      <td>0.208452</td>\n",
       "      <td>-0.626475</td>\n",
       "      <td>-2.028591</td>\n",
       "      <td>-1.730866</td>\n",
       "      <td>-0.060804</td>\n",
       "      <td>0.456016</td>\n",
       "      <td>-0.573528</td>\n",
       "      <td>-2.466426</td>\n",
       "    </tr>\n",
       "    <tr>\n",
       "      <th>B</th>\n",
       "      <td>0.137713</td>\n",
       "      <td>-0.545589</td>\n",
       "      <td>0.424805</td>\n",
       "      <td>-0.607838</td>\n",
       "      <td>-1.037120</td>\n",
       "      <td>0.015317</td>\n",
       "      <td>-1.334582</td>\n",
       "      <td>-0.578104</td>\n",
       "      <td>-0.224173</td>\n",
       "      <td>1.764100</td>\n",
       "    </tr>\n",
       "    <tr>\n",
       "      <th>C</th>\n",
       "      <td>0.505305</td>\n",
       "      <td>-0.324306</td>\n",
       "      <td>0.588758</td>\n",
       "      <td>-0.019928</td>\n",
       "      <td>-0.714983</td>\n",
       "      <td>-0.033431</td>\n",
       "      <td>-0.575089</td>\n",
       "      <td>-1.012815</td>\n",
       "      <td>-0.039968</td>\n",
       "      <td>0.635819</td>\n",
       "    </tr>\n",
       "    <tr>\n",
       "      <th>D</th>\n",
       "      <td>-0.352595</td>\n",
       "      <td>-0.215089</td>\n",
       "      <td>1.220668</td>\n",
       "      <td>-1.233339</td>\n",
       "      <td>-0.666125</td>\n",
       "      <td>-0.456918</td>\n",
       "      <td>-0.400279</td>\n",
       "      <td>0.232728</td>\n",
       "      <td>2.019695</td>\n",
       "      <td>0.708216</td>\n",
       "    </tr>\n",
       "  </tbody>\n",
       "</table>\n",
       "</div>"
      ],
      "text/plain": [
       "   2018-11-19 14:45:00  2018-11-19 15:45:00  2018-11-19 16:45:00  \\\n",
       "A            -0.171189            -0.865478             0.208452   \n",
       "B             0.137713            -0.545589             0.424805   \n",
       "C             0.505305            -0.324306             0.588758   \n",
       "D            -0.352595            -0.215089             1.220668   \n",
       "\n",
       "   2018-11-19 17:45:00  2018-11-19 18:45:00  2018-11-19 19:45:00  \\\n",
       "A            -0.626475            -2.028591            -1.730866   \n",
       "B            -0.607838            -1.037120             0.015317   \n",
       "C            -0.019928            -0.714983            -0.033431   \n",
       "D            -1.233339            -0.666125            -0.456918   \n",
       "\n",
       "   2018-11-19 20:45:00  2018-11-19 21:45:00  2018-11-19 22:45:00  \\\n",
       "A            -0.060804             0.456016            -0.573528   \n",
       "B            -1.334582            -0.578104            -0.224173   \n",
       "C            -0.575089            -1.012815            -0.039968   \n",
       "D            -0.400279             0.232728             2.019695   \n",
       "\n",
       "   2018-11-19 23:45:00  \n",
       "A            -2.466426  \n",
       "B             1.764100  \n",
       "C             0.635819  \n",
       "D             0.708216  "
      ]
     },
     "execution_count": 48,
     "metadata": {},
     "output_type": "execute_result"
    }
   ],
   "source": [
    "df.T"
   ]
  },
  {
   "cell_type": "code",
   "execution_count": 49,
   "metadata": {},
   "outputs": [
    {
     "data": {
      "text/html": [
       "<div>\n",
       "<style>\n",
       "    .dataframe thead tr:only-child th {\n",
       "        text-align: right;\n",
       "    }\n",
       "\n",
       "    .dataframe thead th {\n",
       "        text-align: left;\n",
       "    }\n",
       "\n",
       "    .dataframe tbody tr th {\n",
       "        vertical-align: top;\n",
       "    }\n",
       "</style>\n",
       "<table border=\"1\" class=\"dataframe\">\n",
       "  <thead>\n",
       "    <tr style=\"text-align: right;\">\n",
       "      <th></th>\n",
       "      <th>D</th>\n",
       "      <th>C</th>\n",
       "      <th>B</th>\n",
       "      <th>A</th>\n",
       "    </tr>\n",
       "  </thead>\n",
       "  <tbody>\n",
       "    <tr>\n",
       "      <th>2018-11-19 14:45:00</th>\n",
       "      <td>-0.352595</td>\n",
       "      <td>0.505305</td>\n",
       "      <td>0.137713</td>\n",
       "      <td>-0.171189</td>\n",
       "    </tr>\n",
       "    <tr>\n",
       "      <th>2018-11-19 15:45:00</th>\n",
       "      <td>-0.215089</td>\n",
       "      <td>-0.324306</td>\n",
       "      <td>-0.545589</td>\n",
       "      <td>-0.865478</td>\n",
       "    </tr>\n",
       "    <tr>\n",
       "      <th>2018-11-19 16:45:00</th>\n",
       "      <td>1.220668</td>\n",
       "      <td>0.588758</td>\n",
       "      <td>0.424805</td>\n",
       "      <td>0.208452</td>\n",
       "    </tr>\n",
       "    <tr>\n",
       "      <th>2018-11-19 17:45:00</th>\n",
       "      <td>-1.233339</td>\n",
       "      <td>-0.019928</td>\n",
       "      <td>-0.607838</td>\n",
       "      <td>-0.626475</td>\n",
       "    </tr>\n",
       "    <tr>\n",
       "      <th>2018-11-19 18:45:00</th>\n",
       "      <td>-0.666125</td>\n",
       "      <td>-0.714983</td>\n",
       "      <td>-1.037120</td>\n",
       "      <td>-2.028591</td>\n",
       "    </tr>\n",
       "    <tr>\n",
       "      <th>2018-11-19 19:45:00</th>\n",
       "      <td>-0.456918</td>\n",
       "      <td>-0.033431</td>\n",
       "      <td>0.015317</td>\n",
       "      <td>-1.730866</td>\n",
       "    </tr>\n",
       "    <tr>\n",
       "      <th>2018-11-19 20:45:00</th>\n",
       "      <td>-0.400279</td>\n",
       "      <td>-0.575089</td>\n",
       "      <td>-1.334582</td>\n",
       "      <td>-0.060804</td>\n",
       "    </tr>\n",
       "    <tr>\n",
       "      <th>2018-11-19 21:45:00</th>\n",
       "      <td>0.232728</td>\n",
       "      <td>-1.012815</td>\n",
       "      <td>-0.578104</td>\n",
       "      <td>0.456016</td>\n",
       "    </tr>\n",
       "    <tr>\n",
       "      <th>2018-11-19 22:45:00</th>\n",
       "      <td>2.019695</td>\n",
       "      <td>-0.039968</td>\n",
       "      <td>-0.224173</td>\n",
       "      <td>-0.573528</td>\n",
       "    </tr>\n",
       "    <tr>\n",
       "      <th>2018-11-19 23:45:00</th>\n",
       "      <td>0.708216</td>\n",
       "      <td>0.635819</td>\n",
       "      <td>1.764100</td>\n",
       "      <td>-2.466426</td>\n",
       "    </tr>\n",
       "  </tbody>\n",
       "</table>\n",
       "</div>"
      ],
      "text/plain": [
       "                            D         C         B         A\n",
       "2018-11-19 14:45:00 -0.352595  0.505305  0.137713 -0.171189\n",
       "2018-11-19 15:45:00 -0.215089 -0.324306 -0.545589 -0.865478\n",
       "2018-11-19 16:45:00  1.220668  0.588758  0.424805  0.208452\n",
       "2018-11-19 17:45:00 -1.233339 -0.019928 -0.607838 -0.626475\n",
       "2018-11-19 18:45:00 -0.666125 -0.714983 -1.037120 -2.028591\n",
       "2018-11-19 19:45:00 -0.456918 -0.033431  0.015317 -1.730866\n",
       "2018-11-19 20:45:00 -0.400279 -0.575089 -1.334582 -0.060804\n",
       "2018-11-19 21:45:00  0.232728 -1.012815 -0.578104  0.456016\n",
       "2018-11-19 22:45:00  2.019695 -0.039968 -0.224173 -0.573528\n",
       "2018-11-19 23:45:00  0.708216  0.635819  1.764100 -2.466426"
      ]
     },
     "execution_count": 49,
     "metadata": {},
     "output_type": "execute_result"
    }
   ],
   "source": [
    "df.sort_index(axis=1,ascending=False)"
   ]
  },
  {
   "cell_type": "code",
   "execution_count": 50,
   "metadata": {},
   "outputs": [
    {
     "data": {
      "text/html": [
       "<div>\n",
       "<style>\n",
       "    .dataframe thead tr:only-child th {\n",
       "        text-align: right;\n",
       "    }\n",
       "\n",
       "    .dataframe thead th {\n",
       "        text-align: left;\n",
       "    }\n",
       "\n",
       "    .dataframe tbody tr th {\n",
       "        vertical-align: top;\n",
       "    }\n",
       "</style>\n",
       "<table border=\"1\" class=\"dataframe\">\n",
       "  <thead>\n",
       "    <tr style=\"text-align: right;\">\n",
       "      <th></th>\n",
       "      <th>A</th>\n",
       "      <th>B</th>\n",
       "      <th>C</th>\n",
       "      <th>D</th>\n",
       "    </tr>\n",
       "  </thead>\n",
       "  <tbody>\n",
       "    <tr>\n",
       "      <th>2018-11-19 21:45:00</th>\n",
       "      <td>0.456016</td>\n",
       "      <td>-0.578104</td>\n",
       "      <td>-1.012815</td>\n",
       "      <td>0.232728</td>\n",
       "    </tr>\n",
       "    <tr>\n",
       "      <th>2018-11-19 18:45:00</th>\n",
       "      <td>-2.028591</td>\n",
       "      <td>-1.037120</td>\n",
       "      <td>-0.714983</td>\n",
       "      <td>-0.666125</td>\n",
       "    </tr>\n",
       "    <tr>\n",
       "      <th>2018-11-19 20:45:00</th>\n",
       "      <td>-0.060804</td>\n",
       "      <td>-1.334582</td>\n",
       "      <td>-0.575089</td>\n",
       "      <td>-0.400279</td>\n",
       "    </tr>\n",
       "    <tr>\n",
       "      <th>2018-11-19 15:45:00</th>\n",
       "      <td>-0.865478</td>\n",
       "      <td>-0.545589</td>\n",
       "      <td>-0.324306</td>\n",
       "      <td>-0.215089</td>\n",
       "    </tr>\n",
       "    <tr>\n",
       "      <th>2018-11-19 22:45:00</th>\n",
       "      <td>-0.573528</td>\n",
       "      <td>-0.224173</td>\n",
       "      <td>-0.039968</td>\n",
       "      <td>2.019695</td>\n",
       "    </tr>\n",
       "    <tr>\n",
       "      <th>2018-11-19 19:45:00</th>\n",
       "      <td>-1.730866</td>\n",
       "      <td>0.015317</td>\n",
       "      <td>-0.033431</td>\n",
       "      <td>-0.456918</td>\n",
       "    </tr>\n",
       "    <tr>\n",
       "      <th>2018-11-19 17:45:00</th>\n",
       "      <td>-0.626475</td>\n",
       "      <td>-0.607838</td>\n",
       "      <td>-0.019928</td>\n",
       "      <td>-1.233339</td>\n",
       "    </tr>\n",
       "    <tr>\n",
       "      <th>2018-11-19 14:45:00</th>\n",
       "      <td>-0.171189</td>\n",
       "      <td>0.137713</td>\n",
       "      <td>0.505305</td>\n",
       "      <td>-0.352595</td>\n",
       "    </tr>\n",
       "    <tr>\n",
       "      <th>2018-11-19 16:45:00</th>\n",
       "      <td>0.208452</td>\n",
       "      <td>0.424805</td>\n",
       "      <td>0.588758</td>\n",
       "      <td>1.220668</td>\n",
       "    </tr>\n",
       "    <tr>\n",
       "      <th>2018-11-19 23:45:00</th>\n",
       "      <td>-2.466426</td>\n",
       "      <td>1.764100</td>\n",
       "      <td>0.635819</td>\n",
       "      <td>0.708216</td>\n",
       "    </tr>\n",
       "  </tbody>\n",
       "</table>\n",
       "</div>"
      ],
      "text/plain": [
       "                            A         B         C         D\n",
       "2018-11-19 21:45:00  0.456016 -0.578104 -1.012815  0.232728\n",
       "2018-11-19 18:45:00 -2.028591 -1.037120 -0.714983 -0.666125\n",
       "2018-11-19 20:45:00 -0.060804 -1.334582 -0.575089 -0.400279\n",
       "2018-11-19 15:45:00 -0.865478 -0.545589 -0.324306 -0.215089\n",
       "2018-11-19 22:45:00 -0.573528 -0.224173 -0.039968  2.019695\n",
       "2018-11-19 19:45:00 -1.730866  0.015317 -0.033431 -0.456918\n",
       "2018-11-19 17:45:00 -0.626475 -0.607838 -0.019928 -1.233339\n",
       "2018-11-19 14:45:00 -0.171189  0.137713  0.505305 -0.352595\n",
       "2018-11-19 16:45:00  0.208452  0.424805  0.588758  1.220668\n",
       "2018-11-19 23:45:00 -2.466426  1.764100  0.635819  0.708216"
      ]
     },
     "execution_count": 50,
     "metadata": {},
     "output_type": "execute_result"
    }
   ],
   "source": [
    "df.sort_values(by=\"C\")"
   ]
  },
  {
   "cell_type": "markdown",
   "metadata": {},
   "source": [
    "## Selection\n",
    "\n",
    "### Getting slices\n",
    "\n",
    "The following show how to get part of the DataFrame (i.e. not just the elements)"
   ]
  },
  {
   "cell_type": "code",
   "execution_count": 51,
   "metadata": {},
   "outputs": [
    {
     "name": "stdout",
     "output_type": "stream",
     "text": [
      "2018-11-19 14:45:00   -0.171189\n",
      "2018-11-19 15:45:00   -0.865478\n",
      "2018-11-19 16:45:00    0.208452\n",
      "2018-11-19 17:45:00   -0.626475\n",
      "2018-11-19 18:45:00   -2.028591\n",
      "2018-11-19 19:45:00   -1.730866\n",
      "2018-11-19 20:45:00   -0.060804\n",
      "2018-11-19 21:45:00    0.456016\n",
      "2018-11-19 22:45:00   -0.573528\n",
      "2018-11-19 23:45:00   -2.466426\n",
      "Freq: H, Name: A, dtype: float64 \n",
      "\n",
      "2018-11-19 14:45:00   -0.171189\n",
      "2018-11-19 15:45:00   -0.865478\n",
      "2018-11-19 16:45:00    0.208452\n",
      "2018-11-19 17:45:00   -0.626475\n",
      "2018-11-19 18:45:00   -2.028591\n",
      "2018-11-19 19:45:00   -1.730866\n",
      "2018-11-19 20:45:00   -0.060804\n",
      "2018-11-19 21:45:00    0.456016\n",
      "2018-11-19 22:45:00   -0.573528\n",
      "2018-11-19 23:45:00   -2.466426\n",
      "Freq: H, Name: A, dtype: float64\n"
     ]
    }
   ],
   "source": [
    "## standard and safe\n",
    "print (df['A'],'\\n')\n",
    "\n",
    "## equivalent but dangerous (imagine blank spaces in the name of the column..)\n",
    "print (df.A)"
   ]
  },
  {
   "cell_type": "code",
   "execution_count": 52,
   "metadata": {},
   "outputs": [
    {
     "name": "stdout",
     "output_type": "stream",
     "text": [
      "                            A         B         C         D\n",
      "2018-11-19 14:45:00 -0.171189  0.137713  0.505305 -0.352595\n",
      "2018-11-19 15:45:00 -0.865478 -0.545589 -0.324306 -0.215089\n",
      "2018-11-19 16:45:00  0.208452  0.424805  0.588758  1.220668\n",
      "                            A         B         C         D\n",
      "2018-11-19 14:45:00 -0.171189  0.137713  0.505305 -0.352595\n",
      "2018-11-19 15:45:00 -0.865478 -0.545589 -0.324306 -0.215089\n",
      "2018-11-19 16:45:00  0.208452  0.424805  0.588758  1.220668\n"
     ]
    }
   ],
   "source": [
    "# selecting rows by counting\n",
    "print (df[0:3])\n",
    "\n",
    "# or by index\n",
    "print (df[\"2018-11-19 14:45:00\":\"2018-11-19 16:45:00\"])"
   ]
  },
  {
   "cell_type": "markdown",
   "metadata": {},
   "source": [
    "### Selection by label"
   ]
  },
  {
   "cell_type": "code",
   "execution_count": 53,
   "metadata": {},
   "outputs": [
    {
     "data": {
      "text/plain": [
       "A   -0.171189\n",
       "B    0.137713\n",
       "C    0.505305\n",
       "D   -0.352595\n",
       "Name: 2018-11-19 14:45:00, dtype: float64"
      ]
     },
     "execution_count": 53,
     "metadata": {},
     "output_type": "execute_result"
    }
   ],
   "source": [
    "# getting a cross section (part of the DataFrame) using a label\n",
    "df.loc[dates[0]]"
   ]
  },
  {
   "cell_type": "code",
   "execution_count": 54,
   "metadata": {},
   "outputs": [
    {
     "data": {
      "text/html": [
       "<div>\n",
       "<style>\n",
       "    .dataframe thead tr:only-child th {\n",
       "        text-align: right;\n",
       "    }\n",
       "\n",
       "    .dataframe thead th {\n",
       "        text-align: left;\n",
       "    }\n",
       "\n",
       "    .dataframe tbody tr th {\n",
       "        vertical-align: top;\n",
       "    }\n",
       "</style>\n",
       "<table border=\"1\" class=\"dataframe\">\n",
       "  <thead>\n",
       "    <tr style=\"text-align: right;\">\n",
       "      <th></th>\n",
       "      <th>A</th>\n",
       "      <th>B</th>\n",
       "    </tr>\n",
       "  </thead>\n",
       "  <tbody>\n",
       "    <tr>\n",
       "      <th>2018-11-19 14:45:00</th>\n",
       "      <td>-0.171189</td>\n",
       "      <td>0.137713</td>\n",
       "    </tr>\n",
       "    <tr>\n",
       "      <th>2018-11-19 15:45:00</th>\n",
       "      <td>-0.865478</td>\n",
       "      <td>-0.545589</td>\n",
       "    </tr>\n",
       "    <tr>\n",
       "      <th>2018-11-19 16:45:00</th>\n",
       "      <td>0.208452</td>\n",
       "      <td>0.424805</td>\n",
       "    </tr>\n",
       "    <tr>\n",
       "      <th>2018-11-19 17:45:00</th>\n",
       "      <td>-0.626475</td>\n",
       "      <td>-0.607838</td>\n",
       "    </tr>\n",
       "    <tr>\n",
       "      <th>2018-11-19 18:45:00</th>\n",
       "      <td>-2.028591</td>\n",
       "      <td>-1.037120</td>\n",
       "    </tr>\n",
       "    <tr>\n",
       "      <th>2018-11-19 19:45:00</th>\n",
       "      <td>-1.730866</td>\n",
       "      <td>0.015317</td>\n",
       "    </tr>\n",
       "    <tr>\n",
       "      <th>2018-11-19 20:45:00</th>\n",
       "      <td>-0.060804</td>\n",
       "      <td>-1.334582</td>\n",
       "    </tr>\n",
       "    <tr>\n",
       "      <th>2018-11-19 21:45:00</th>\n",
       "      <td>0.456016</td>\n",
       "      <td>-0.578104</td>\n",
       "    </tr>\n",
       "    <tr>\n",
       "      <th>2018-11-19 22:45:00</th>\n",
       "      <td>-0.573528</td>\n",
       "      <td>-0.224173</td>\n",
       "    </tr>\n",
       "    <tr>\n",
       "      <th>2018-11-19 23:45:00</th>\n",
       "      <td>-2.466426</td>\n",
       "      <td>1.764100</td>\n",
       "    </tr>\n",
       "  </tbody>\n",
       "</table>\n",
       "</div>"
      ],
      "text/plain": [
       "                            A         B\n",
       "2018-11-19 14:45:00 -0.171189  0.137713\n",
       "2018-11-19 15:45:00 -0.865478 -0.545589\n",
       "2018-11-19 16:45:00  0.208452  0.424805\n",
       "2018-11-19 17:45:00 -0.626475 -0.607838\n",
       "2018-11-19 18:45:00 -2.028591 -1.037120\n",
       "2018-11-19 19:45:00 -1.730866  0.015317\n",
       "2018-11-19 20:45:00 -0.060804 -1.334582\n",
       "2018-11-19 21:45:00  0.456016 -0.578104\n",
       "2018-11-19 22:45:00 -0.573528 -0.224173\n",
       "2018-11-19 23:45:00 -2.466426  1.764100"
      ]
     },
     "execution_count": 54,
     "metadata": {},
     "output_type": "execute_result"
    }
   ],
   "source": [
    "# selecting on a multi-axis by label:\n",
    "df.loc[:,['A','B']]"
   ]
  },
  {
   "cell_type": "code",
   "execution_count": 55,
   "metadata": {},
   "outputs": [
    {
     "data": {
      "text/html": [
       "<div>\n",
       "<style>\n",
       "    .dataframe thead tr:only-child th {\n",
       "        text-align: right;\n",
       "    }\n",
       "\n",
       "    .dataframe thead th {\n",
       "        text-align: left;\n",
       "    }\n",
       "\n",
       "    .dataframe tbody tr th {\n",
       "        vertical-align: top;\n",
       "    }\n",
       "</style>\n",
       "<table border=\"1\" class=\"dataframe\">\n",
       "  <thead>\n",
       "    <tr style=\"text-align: right;\">\n",
       "      <th></th>\n",
       "      <th>A</th>\n",
       "      <th>B</th>\n",
       "    </tr>\n",
       "  </thead>\n",
       "  <tbody>\n",
       "    <tr>\n",
       "      <th>2018-11-19 18:45:00</th>\n",
       "      <td>-2.028591</td>\n",
       "      <td>-1.037120</td>\n",
       "    </tr>\n",
       "    <tr>\n",
       "      <th>2018-11-19 19:45:00</th>\n",
       "      <td>-1.730866</td>\n",
       "      <td>0.015317</td>\n",
       "    </tr>\n",
       "    <tr>\n",
       "      <th>2018-11-19 20:45:00</th>\n",
       "      <td>-0.060804</td>\n",
       "      <td>-1.334582</td>\n",
       "    </tr>\n",
       "  </tbody>\n",
       "</table>\n",
       "</div>"
      ],
      "text/plain": [
       "                            A         B\n",
       "2018-11-19 18:45:00 -2.028591 -1.037120\n",
       "2018-11-19 19:45:00 -1.730866  0.015317\n",
       "2018-11-19 20:45:00 -0.060804 -1.334582"
      ]
     },
     "execution_count": 55,
     "metadata": {},
     "output_type": "execute_result"
    }
   ],
   "source": [
    "# showing label slicing, both endpoints are included:\n",
    "df.loc['2018-11-19 18:45:00':'2018-11-19 20:45:00',['A','B']]"
   ]
  },
  {
   "cell_type": "code",
   "execution_count": 56,
   "metadata": {},
   "outputs": [
    {
     "name": "stdout",
     "output_type": "stream",
     "text": [
      "-0.865477839083\n",
      "-0.865477839083\n"
     ]
    }
   ],
   "source": [
    "# getting an individual element\n",
    "print (df.loc[dates[1],'A'])\n",
    "\n",
    "# equivalently\n",
    "print (df.at[dates[1],'A'])"
   ]
  },
  {
   "cell_type": "markdown",
   "metadata": {},
   "source": [
    "### Selecting by position"
   ]
  },
  {
   "cell_type": "code",
   "execution_count": 57,
   "metadata": {},
   "outputs": [
    {
     "name": "stdout",
     "output_type": "stream",
     "text": [
      "A   -0.626475\n",
      "B   -0.607838\n",
      "C   -0.019928\n",
      "D   -1.233339\n",
      "Name: 2018-11-19 17:45:00, dtype: float64 \n",
      "\n",
      "                            A         B\n",
      "2018-11-19 17:45:00 -0.626475 -0.607838\n",
      "2018-11-19 18:45:00 -2.028591 -1.037120\n"
     ]
    }
   ],
   "source": [
    "# select via the position of the passed integers:\n",
    "print (df.iloc[3],'\\n')\n",
    "\n",
    "# notation similar to numpy/python\n",
    "print (df.iloc[3:5,0:2])"
   ]
  },
  {
   "cell_type": "code",
   "execution_count": 58,
   "metadata": {},
   "outputs": [
    {
     "data": {
      "text/html": [
       "<div>\n",
       "<style>\n",
       "    .dataframe thead tr:only-child th {\n",
       "        text-align: right;\n",
       "    }\n",
       "\n",
       "    .dataframe thead th {\n",
       "        text-align: left;\n",
       "    }\n",
       "\n",
       "    .dataframe tbody tr th {\n",
       "        vertical-align: top;\n",
       "    }\n",
       "</style>\n",
       "<table border=\"1\" class=\"dataframe\">\n",
       "  <thead>\n",
       "    <tr style=\"text-align: right;\">\n",
       "      <th></th>\n",
       "      <th>A</th>\n",
       "      <th>C</th>\n",
       "    </tr>\n",
       "  </thead>\n",
       "  <tbody>\n",
       "    <tr>\n",
       "      <th>2018-11-19 15:45:00</th>\n",
       "      <td>-0.865478</td>\n",
       "      <td>-0.324306</td>\n",
       "    </tr>\n",
       "    <tr>\n",
       "      <th>2018-11-19 16:45:00</th>\n",
       "      <td>0.208452</td>\n",
       "      <td>0.588758</td>\n",
       "    </tr>\n",
       "    <tr>\n",
       "      <th>2018-11-19 18:45:00</th>\n",
       "      <td>-2.028591</td>\n",
       "      <td>-0.714983</td>\n",
       "    </tr>\n",
       "  </tbody>\n",
       "</table>\n",
       "</div>"
      ],
      "text/plain": [
       "                            A         C\n",
       "2018-11-19 15:45:00 -0.865478 -0.324306\n",
       "2018-11-19 16:45:00  0.208452  0.588758\n",
       "2018-11-19 18:45:00 -2.028591 -0.714983"
      ]
     },
     "execution_count": 58,
     "metadata": {},
     "output_type": "execute_result"
    }
   ],
   "source": [
    "# selecting raws 1,2 and 4 for columns 0 and 2\n",
    "df.iloc[[1,2,4],[0,2]]"
   ]
  },
  {
   "cell_type": "code",
   "execution_count": 59,
   "metadata": {},
   "outputs": [
    {
     "name": "stdout",
     "output_type": "stream",
     "text": [
      "                            A         B         C         D\n",
      "2018-11-19 15:45:00 -0.865478 -0.545589 -0.324306 -0.215089\n",
      "2018-11-19 16:45:00  0.208452  0.424805  0.588758  1.220668 \n",
      "\n",
      "                            B         C\n",
      "2018-11-19 14:45:00  0.137713  0.505305\n",
      "2018-11-19 15:45:00 -0.545589 -0.324306\n",
      "2018-11-19 16:45:00  0.424805  0.588758\n",
      "2018-11-19 17:45:00 -0.607838 -0.019928\n",
      "2018-11-19 18:45:00 -1.037120 -0.714983\n",
      "2018-11-19 19:45:00  0.015317 -0.033431\n",
      "2018-11-19 20:45:00 -1.334582 -0.575089\n",
      "2018-11-19 21:45:00 -0.578104 -1.012815\n",
      "2018-11-19 22:45:00 -0.224173 -0.039968\n",
      "2018-11-19 23:45:00  1.764100  0.635819\n"
     ]
    }
   ],
   "source": [
    "# slicing rows explicitly\n",
    "print (df.iloc[1:3,:],'\\n')\n",
    "\n",
    "# slicing columns explicitly\n",
    "print (df.iloc[:,1:3])\n"
   ]
  },
  {
   "cell_type": "code",
   "execution_count": 60,
   "metadata": {},
   "outputs": [
    {
     "data": {
      "text/plain": [
       "-0.54558919355194802"
      ]
     },
     "execution_count": 60,
     "metadata": {},
     "output_type": "execute_result"
    }
   ],
   "source": [
    "# selecting an individual element by position\n",
    "df.iloc[1,1]\n",
    "df.iat[1,1]\n"
   ]
  },
  {
   "cell_type": "markdown",
   "metadata": {},
   "source": [
    "### Boolean index\n",
    "\n",
    "Very powerful way of filtering out data with certain features. Notation is very similar to numpy arrays."
   ]
  },
  {
   "cell_type": "code",
   "execution_count": 61,
   "metadata": {},
   "outputs": [
    {
     "data": {
      "text/html": [
       "<div>\n",
       "<style>\n",
       "    .dataframe thead tr:only-child th {\n",
       "        text-align: right;\n",
       "    }\n",
       "\n",
       "    .dataframe thead th {\n",
       "        text-align: left;\n",
       "    }\n",
       "\n",
       "    .dataframe tbody tr th {\n",
       "        vertical-align: top;\n",
       "    }\n",
       "</style>\n",
       "<table border=\"1\" class=\"dataframe\">\n",
       "  <thead>\n",
       "    <tr style=\"text-align: right;\">\n",
       "      <th></th>\n",
       "      <th>A</th>\n",
       "      <th>B</th>\n",
       "      <th>C</th>\n",
       "      <th>D</th>\n",
       "    </tr>\n",
       "  </thead>\n",
       "  <tbody>\n",
       "    <tr>\n",
       "      <th>2018-11-19 14:45:00</th>\n",
       "      <td>-0.171189</td>\n",
       "      <td>0.137713</td>\n",
       "      <td>0.505305</td>\n",
       "      <td>-0.352595</td>\n",
       "    </tr>\n",
       "    <tr>\n",
       "      <th>2018-11-19 16:45:00</th>\n",
       "      <td>0.208452</td>\n",
       "      <td>0.424805</td>\n",
       "      <td>0.588758</td>\n",
       "      <td>1.220668</td>\n",
       "    </tr>\n",
       "    <tr>\n",
       "      <th>2018-11-19 19:45:00</th>\n",
       "      <td>-1.730866</td>\n",
       "      <td>0.015317</td>\n",
       "      <td>-0.033431</td>\n",
       "      <td>-0.456918</td>\n",
       "    </tr>\n",
       "    <tr>\n",
       "      <th>2018-11-19 23:45:00</th>\n",
       "      <td>-2.466426</td>\n",
       "      <td>1.764100</td>\n",
       "      <td>0.635819</td>\n",
       "      <td>0.708216</td>\n",
       "    </tr>\n",
       "  </tbody>\n",
       "</table>\n",
       "</div>"
      ],
      "text/plain": [
       "                            A         B         C         D\n",
       "2018-11-19 14:45:00 -0.171189  0.137713  0.505305 -0.352595\n",
       "2018-11-19 16:45:00  0.208452  0.424805  0.588758  1.220668\n",
       "2018-11-19 19:45:00 -1.730866  0.015317 -0.033431 -0.456918\n",
       "2018-11-19 23:45:00 -2.466426  1.764100  0.635819  0.708216"
      ]
     },
     "execution_count": 61,
     "metadata": {},
     "output_type": "execute_result"
    }
   ],
   "source": [
    "# Filter by a boolean condition on the values of a single column\n",
    "df[df['B'] > 0]"
   ]
  },
  {
   "cell_type": "code",
   "execution_count": 62,
   "metadata": {},
   "outputs": [
    {
     "data": {
      "text/html": [
       "<div>\n",
       "<style>\n",
       "    .dataframe thead tr:only-child th {\n",
       "        text-align: right;\n",
       "    }\n",
       "\n",
       "    .dataframe thead th {\n",
       "        text-align: left;\n",
       "    }\n",
       "\n",
       "    .dataframe tbody tr th {\n",
       "        vertical-align: top;\n",
       "    }\n",
       "</style>\n",
       "<table border=\"1\" class=\"dataframe\">\n",
       "  <thead>\n",
       "    <tr style=\"text-align: right;\">\n",
       "      <th></th>\n",
       "      <th>A</th>\n",
       "      <th>B</th>\n",
       "      <th>C</th>\n",
       "      <th>D</th>\n",
       "    </tr>\n",
       "  </thead>\n",
       "  <tbody>\n",
       "    <tr>\n",
       "      <th>2018-11-19 14:45:00</th>\n",
       "      <td>NaN</td>\n",
       "      <td>0.137713</td>\n",
       "      <td>0.505305</td>\n",
       "      <td>NaN</td>\n",
       "    </tr>\n",
       "    <tr>\n",
       "      <th>2018-11-19 15:45:00</th>\n",
       "      <td>NaN</td>\n",
       "      <td>NaN</td>\n",
       "      <td>NaN</td>\n",
       "      <td>NaN</td>\n",
       "    </tr>\n",
       "    <tr>\n",
       "      <th>2018-11-19 16:45:00</th>\n",
       "      <td>0.208452</td>\n",
       "      <td>0.424805</td>\n",
       "      <td>0.588758</td>\n",
       "      <td>1.220668</td>\n",
       "    </tr>\n",
       "    <tr>\n",
       "      <th>2018-11-19 17:45:00</th>\n",
       "      <td>NaN</td>\n",
       "      <td>NaN</td>\n",
       "      <td>NaN</td>\n",
       "      <td>NaN</td>\n",
       "    </tr>\n",
       "    <tr>\n",
       "      <th>2018-11-19 18:45:00</th>\n",
       "      <td>NaN</td>\n",
       "      <td>NaN</td>\n",
       "      <td>NaN</td>\n",
       "      <td>NaN</td>\n",
       "    </tr>\n",
       "    <tr>\n",
       "      <th>2018-11-19 19:45:00</th>\n",
       "      <td>NaN</td>\n",
       "      <td>0.015317</td>\n",
       "      <td>NaN</td>\n",
       "      <td>NaN</td>\n",
       "    </tr>\n",
       "    <tr>\n",
       "      <th>2018-11-19 20:45:00</th>\n",
       "      <td>NaN</td>\n",
       "      <td>NaN</td>\n",
       "      <td>NaN</td>\n",
       "      <td>NaN</td>\n",
       "    </tr>\n",
       "    <tr>\n",
       "      <th>2018-11-19 21:45:00</th>\n",
       "      <td>0.456016</td>\n",
       "      <td>NaN</td>\n",
       "      <td>NaN</td>\n",
       "      <td>0.232728</td>\n",
       "    </tr>\n",
       "    <tr>\n",
       "      <th>2018-11-19 22:45:00</th>\n",
       "      <td>NaN</td>\n",
       "      <td>NaN</td>\n",
       "      <td>NaN</td>\n",
       "      <td>2.019695</td>\n",
       "    </tr>\n",
       "    <tr>\n",
       "      <th>2018-11-19 23:45:00</th>\n",
       "      <td>NaN</td>\n",
       "      <td>1.764100</td>\n",
       "      <td>0.635819</td>\n",
       "      <td>0.708216</td>\n",
       "    </tr>\n",
       "  </tbody>\n",
       "</table>\n",
       "</div>"
      ],
      "text/plain": [
       "                            A         B         C         D\n",
       "2018-11-19 14:45:00       NaN  0.137713  0.505305       NaN\n",
       "2018-11-19 15:45:00       NaN       NaN       NaN       NaN\n",
       "2018-11-19 16:45:00  0.208452  0.424805  0.588758  1.220668\n",
       "2018-11-19 17:45:00       NaN       NaN       NaN       NaN\n",
       "2018-11-19 18:45:00       NaN       NaN       NaN       NaN\n",
       "2018-11-19 19:45:00       NaN  0.015317       NaN       NaN\n",
       "2018-11-19 20:45:00       NaN       NaN       NaN       NaN\n",
       "2018-11-19 21:45:00  0.456016       NaN       NaN  0.232728\n",
       "2018-11-19 22:45:00       NaN       NaN       NaN  2.019695\n",
       "2018-11-19 23:45:00       NaN  1.764100  0.635819  0.708216"
      ]
     },
     "execution_count": 62,
     "metadata": {},
     "output_type": "execute_result"
    }
   ],
   "source": [
    "# Selecting on the basis of boolean conditions applied to the whole DataFrame\n",
    "df[df>0]\n",
    "\n",
    "# a DataFrame with the same shape is returned, with NaN's where condition is not met"
   ]
  },
  {
   "cell_type": "markdown",
   "metadata": {},
   "source": [
    "### Setting\n",
    "\n",
    "Combination of selection and setting of values"
   ]
  },
  {
   "cell_type": "code",
   "execution_count": 63,
   "metadata": {
    "collapsed": true
   },
   "outputs": [],
   "source": [
    "# setting values by label (same as by position)\n",
    "df.at[dates[0],'A'] = 0\n",
    "\n",
    "# setting and assigning a numpy array\n",
    "df.loc[:,'D'] = np.array([5] * len(df))\n",
    "\n",
    "# defining a brend new column\n",
    "df['E'] = np.arange(len(df))*0.5\n",
    "\n",
    "# defining a brend new column by means of a pd.Series: indexes must be the same!\n",
    "df['E prime'] = pd.Series(np.arange(len(df))*2, index=df.index)\n"
   ]
  },
  {
   "cell_type": "code",
   "execution_count": 64,
   "metadata": {},
   "outputs": [
    {
     "data": {
      "text/html": [
       "<div>\n",
       "<style>\n",
       "    .dataframe thead tr:only-child th {\n",
       "        text-align: right;\n",
       "    }\n",
       "\n",
       "    .dataframe thead th {\n",
       "        text-align: left;\n",
       "    }\n",
       "\n",
       "    .dataframe tbody tr th {\n",
       "        vertical-align: top;\n",
       "    }\n",
       "</style>\n",
       "<table border=\"1\" class=\"dataframe\">\n",
       "  <thead>\n",
       "    <tr style=\"text-align: right;\">\n",
       "      <th></th>\n",
       "      <th>A</th>\n",
       "      <th>B</th>\n",
       "      <th>C</th>\n",
       "      <th>D</th>\n",
       "      <th>E</th>\n",
       "      <th>E prime</th>\n",
       "      <th>cosine</th>\n",
       "    </tr>\n",
       "  </thead>\n",
       "  <tbody>\n",
       "    <tr>\n",
       "      <th>2018-11-19 14:45:00</th>\n",
       "      <td>0.000000</td>\n",
       "      <td>0.137713</td>\n",
       "      <td>0.505305</td>\n",
       "      <td>5</td>\n",
       "      <td>0.0</td>\n",
       "      <td>0</td>\n",
       "      <td>1.000000</td>\n",
       "    </tr>\n",
       "    <tr>\n",
       "      <th>2018-11-19 15:45:00</th>\n",
       "      <td>-0.865478</td>\n",
       "      <td>-0.545589</td>\n",
       "      <td>-0.324306</td>\n",
       "      <td>5</td>\n",
       "      <td>0.5</td>\n",
       "      <td>2</td>\n",
       "      <td>0.999962</td>\n",
       "    </tr>\n",
       "    <tr>\n",
       "      <th>2018-11-19 16:45:00</th>\n",
       "      <td>0.208452</td>\n",
       "      <td>0.424805</td>\n",
       "      <td>0.588758</td>\n",
       "      <td>5</td>\n",
       "      <td>1.0</td>\n",
       "      <td>4</td>\n",
       "      <td>0.999848</td>\n",
       "    </tr>\n",
       "    <tr>\n",
       "      <th>2018-11-19 17:45:00</th>\n",
       "      <td>-0.626475</td>\n",
       "      <td>-0.607838</td>\n",
       "      <td>-0.019928</td>\n",
       "      <td>5</td>\n",
       "      <td>1.5</td>\n",
       "      <td>6</td>\n",
       "      <td>0.999657</td>\n",
       "    </tr>\n",
       "    <tr>\n",
       "      <th>2018-11-19 18:45:00</th>\n",
       "      <td>-2.028591</td>\n",
       "      <td>-1.037120</td>\n",
       "      <td>-0.714983</td>\n",
       "      <td>5</td>\n",
       "      <td>2.0</td>\n",
       "      <td>8</td>\n",
       "      <td>0.999391</td>\n",
       "    </tr>\n",
       "    <tr>\n",
       "      <th>2018-11-19 19:45:00</th>\n",
       "      <td>-1.730866</td>\n",
       "      <td>0.015317</td>\n",
       "      <td>-0.033431</td>\n",
       "      <td>5</td>\n",
       "      <td>2.5</td>\n",
       "      <td>10</td>\n",
       "      <td>0.999048</td>\n",
       "    </tr>\n",
       "    <tr>\n",
       "      <th>2018-11-19 20:45:00</th>\n",
       "      <td>-0.060804</td>\n",
       "      <td>-1.334582</td>\n",
       "      <td>-0.575089</td>\n",
       "      <td>5</td>\n",
       "      <td>3.0</td>\n",
       "      <td>12</td>\n",
       "      <td>0.998630</td>\n",
       "    </tr>\n",
       "    <tr>\n",
       "      <th>2018-11-19 21:45:00</th>\n",
       "      <td>0.456016</td>\n",
       "      <td>-0.578104</td>\n",
       "      <td>-1.012815</td>\n",
       "      <td>5</td>\n",
       "      <td>3.5</td>\n",
       "      <td>14</td>\n",
       "      <td>0.998135</td>\n",
       "    </tr>\n",
       "    <tr>\n",
       "      <th>2018-11-19 22:45:00</th>\n",
       "      <td>-0.573528</td>\n",
       "      <td>-0.224173</td>\n",
       "      <td>-0.039968</td>\n",
       "      <td>5</td>\n",
       "      <td>4.0</td>\n",
       "      <td>16</td>\n",
       "      <td>0.997564</td>\n",
       "    </tr>\n",
       "    <tr>\n",
       "      <th>2018-11-19 23:45:00</th>\n",
       "      <td>-2.466426</td>\n",
       "      <td>1.764100</td>\n",
       "      <td>0.635819</td>\n",
       "      <td>5</td>\n",
       "      <td>4.5</td>\n",
       "      <td>18</td>\n",
       "      <td>0.996917</td>\n",
       "    </tr>\n",
       "  </tbody>\n",
       "</table>\n",
       "</div>"
      ],
      "text/plain": [
       "                            A         B         C  D    E  E prime    cosine\n",
       "2018-11-19 14:45:00  0.000000  0.137713  0.505305  5  0.0        0  1.000000\n",
       "2018-11-19 15:45:00 -0.865478 -0.545589 -0.324306  5  0.5        2  0.999962\n",
       "2018-11-19 16:45:00  0.208452  0.424805  0.588758  5  1.0        4  0.999848\n",
       "2018-11-19 17:45:00 -0.626475 -0.607838 -0.019928  5  1.5        6  0.999657\n",
       "2018-11-19 18:45:00 -2.028591 -1.037120 -0.714983  5  2.0        8  0.999391\n",
       "2018-11-19 19:45:00 -1.730866  0.015317 -0.033431  5  2.5       10  0.999048\n",
       "2018-11-19 20:45:00 -0.060804 -1.334582 -0.575089  5  3.0       12  0.998630\n",
       "2018-11-19 21:45:00  0.456016 -0.578104 -1.012815  5  3.5       14  0.998135\n",
       "2018-11-19 22:45:00 -0.573528 -0.224173 -0.039968  5  4.0       16  0.997564\n",
       "2018-11-19 23:45:00 -2.466426  1.764100  0.635819  5  4.5       18  0.996917"
      ]
     },
     "execution_count": 64,
     "metadata": {},
     "output_type": "execute_result"
    }
   ],
   "source": [
    "def dcos(theta):\n",
    "    theta = theta*(np.pi/180)\n",
    "    return np.cos(theta)\n",
    " \n",
    "df['cosine'] = pd.Series(df[\"E\"].apply(dcos), index=df.index)\n",
    "df"
   ]
  },
  {
   "cell_type": "code",
   "execution_count": 65,
   "metadata": {},
   "outputs": [
    {
     "data": {
      "text/html": [
       "<div>\n",
       "<style>\n",
       "    .dataframe thead tr:only-child th {\n",
       "        text-align: right;\n",
       "    }\n",
       "\n",
       "    .dataframe thead th {\n",
       "        text-align: left;\n",
       "    }\n",
       "\n",
       "    .dataframe tbody tr th {\n",
       "        vertical-align: top;\n",
       "    }\n",
       "</style>\n",
       "<table border=\"1\" class=\"dataframe\">\n",
       "  <thead>\n",
       "    <tr style=\"text-align: right;\">\n",
       "      <th></th>\n",
       "      <th>A</th>\n",
       "      <th>B</th>\n",
       "      <th>C</th>\n",
       "      <th>D</th>\n",
       "      <th>E</th>\n",
       "      <th>E prime</th>\n",
       "      <th>cosine</th>\n",
       "    </tr>\n",
       "  </thead>\n",
       "  <tbody>\n",
       "    <tr>\n",
       "      <th>2018-11-19 14:45:00</th>\n",
       "      <td>0.000000</td>\n",
       "      <td>-0.137713</td>\n",
       "      <td>-0.505305</td>\n",
       "      <td>-5</td>\n",
       "      <td>0.0</td>\n",
       "      <td>0</td>\n",
       "      <td>-1.000000</td>\n",
       "    </tr>\n",
       "    <tr>\n",
       "      <th>2018-11-19 15:45:00</th>\n",
       "      <td>-0.865478</td>\n",
       "      <td>-0.545589</td>\n",
       "      <td>-0.324306</td>\n",
       "      <td>-5</td>\n",
       "      <td>-0.5</td>\n",
       "      <td>-2</td>\n",
       "      <td>-0.999962</td>\n",
       "    </tr>\n",
       "    <tr>\n",
       "      <th>2018-11-19 16:45:00</th>\n",
       "      <td>-0.208452</td>\n",
       "      <td>-0.424805</td>\n",
       "      <td>-0.588758</td>\n",
       "      <td>-5</td>\n",
       "      <td>-1.0</td>\n",
       "      <td>-4</td>\n",
       "      <td>-0.999848</td>\n",
       "    </tr>\n",
       "    <tr>\n",
       "      <th>2018-11-19 17:45:00</th>\n",
       "      <td>-0.626475</td>\n",
       "      <td>-0.607838</td>\n",
       "      <td>-0.019928</td>\n",
       "      <td>-5</td>\n",
       "      <td>-1.5</td>\n",
       "      <td>-6</td>\n",
       "      <td>-0.999657</td>\n",
       "    </tr>\n",
       "    <tr>\n",
       "      <th>2018-11-19 18:45:00</th>\n",
       "      <td>-2.028591</td>\n",
       "      <td>-1.037120</td>\n",
       "      <td>-0.714983</td>\n",
       "      <td>-5</td>\n",
       "      <td>-2.0</td>\n",
       "      <td>-8</td>\n",
       "      <td>-0.999391</td>\n",
       "    </tr>\n",
       "    <tr>\n",
       "      <th>2018-11-19 19:45:00</th>\n",
       "      <td>-1.730866</td>\n",
       "      <td>-0.015317</td>\n",
       "      <td>-0.033431</td>\n",
       "      <td>-5</td>\n",
       "      <td>-2.5</td>\n",
       "      <td>-10</td>\n",
       "      <td>-0.999048</td>\n",
       "    </tr>\n",
       "    <tr>\n",
       "      <th>2018-11-19 20:45:00</th>\n",
       "      <td>-0.060804</td>\n",
       "      <td>-1.334582</td>\n",
       "      <td>-0.575089</td>\n",
       "      <td>-5</td>\n",
       "      <td>-3.0</td>\n",
       "      <td>-12</td>\n",
       "      <td>-0.998630</td>\n",
       "    </tr>\n",
       "    <tr>\n",
       "      <th>2018-11-19 21:45:00</th>\n",
       "      <td>-0.456016</td>\n",
       "      <td>-0.578104</td>\n",
       "      <td>-1.012815</td>\n",
       "      <td>-5</td>\n",
       "      <td>-3.5</td>\n",
       "      <td>-14</td>\n",
       "      <td>-0.998135</td>\n",
       "    </tr>\n",
       "    <tr>\n",
       "      <th>2018-11-19 22:45:00</th>\n",
       "      <td>-0.573528</td>\n",
       "      <td>-0.224173</td>\n",
       "      <td>-0.039968</td>\n",
       "      <td>-5</td>\n",
       "      <td>-4.0</td>\n",
       "      <td>-16</td>\n",
       "      <td>-0.997564</td>\n",
       "    </tr>\n",
       "    <tr>\n",
       "      <th>2018-11-19 23:45:00</th>\n",
       "      <td>-2.466426</td>\n",
       "      <td>-1.764100</td>\n",
       "      <td>-0.635819</td>\n",
       "      <td>-5</td>\n",
       "      <td>-4.5</td>\n",
       "      <td>-18</td>\n",
       "      <td>-0.996917</td>\n",
       "    </tr>\n",
       "  </tbody>\n",
       "</table>\n",
       "</div>"
      ],
      "text/plain": [
       "                            A         B         C  D    E  E prime    cosine\n",
       "2018-11-19 14:45:00  0.000000 -0.137713 -0.505305 -5  0.0        0 -1.000000\n",
       "2018-11-19 15:45:00 -0.865478 -0.545589 -0.324306 -5 -0.5       -2 -0.999962\n",
       "2018-11-19 16:45:00 -0.208452 -0.424805 -0.588758 -5 -1.0       -4 -0.999848\n",
       "2018-11-19 17:45:00 -0.626475 -0.607838 -0.019928 -5 -1.5       -6 -0.999657\n",
       "2018-11-19 18:45:00 -2.028591 -1.037120 -0.714983 -5 -2.0       -8 -0.999391\n",
       "2018-11-19 19:45:00 -1.730866 -0.015317 -0.033431 -5 -2.5      -10 -0.999048\n",
       "2018-11-19 20:45:00 -0.060804 -1.334582 -0.575089 -5 -3.0      -12 -0.998630\n",
       "2018-11-19 21:45:00 -0.456016 -0.578104 -1.012815 -5 -3.5      -14 -0.998135\n",
       "2018-11-19 22:45:00 -0.573528 -0.224173 -0.039968 -5 -4.0      -16 -0.997564\n",
       "2018-11-19 23:45:00 -2.466426 -1.764100 -0.635819 -5 -4.5      -18 -0.996917"
      ]
     },
     "execution_count": 65,
     "metadata": {},
     "output_type": "execute_result"
    }
   ],
   "source": [
    "# another example of global setting\n",
    "df2=df.copy()\n",
    "df2[df2>0] = -df2\n",
    "df2"
   ]
  },
  {
   "cell_type": "markdown",
   "metadata": {},
   "source": [
    "### Dropping\n",
    "\n",
    "N.B.: dropping doesn't act permanently on the DataFrame, i.e. to get that do :\n",
    "```python\n",
    "df = df.drop(....)\n",
    "```"
   ]
  },
  {
   "cell_type": "code",
   "execution_count": 67,
   "metadata": {},
   "outputs": [
    {
     "data": {
      "text/html": [
       "<div>\n",
       "<style>\n",
       "    .dataframe thead tr:only-child th {\n",
       "        text-align: right;\n",
       "    }\n",
       "\n",
       "    .dataframe thead th {\n",
       "        text-align: left;\n",
       "    }\n",
       "\n",
       "    .dataframe tbody tr th {\n",
       "        vertical-align: top;\n",
       "    }\n",
       "</style>\n",
       "<table border=\"1\" class=\"dataframe\">\n",
       "  <thead>\n",
       "    <tr style=\"text-align: right;\">\n",
       "      <th></th>\n",
       "      <th>A</th>\n",
       "      <th>B</th>\n",
       "      <th>C</th>\n",
       "      <th>D</th>\n",
       "      <th>E</th>\n",
       "      <th>cosine</th>\n",
       "    </tr>\n",
       "  </thead>\n",
       "  <tbody>\n",
       "    <tr>\n",
       "      <th>2018-11-19 14:45:00</th>\n",
       "      <td>0.000000</td>\n",
       "      <td>0.137713</td>\n",
       "      <td>0.505305</td>\n",
       "      <td>5</td>\n",
       "      <td>0.0</td>\n",
       "      <td>1.000000</td>\n",
       "    </tr>\n",
       "    <tr>\n",
       "      <th>2018-11-19 15:45:00</th>\n",
       "      <td>-0.865478</td>\n",
       "      <td>-0.545589</td>\n",
       "      <td>-0.324306</td>\n",
       "      <td>5</td>\n",
       "      <td>0.5</td>\n",
       "      <td>0.999962</td>\n",
       "    </tr>\n",
       "    <tr>\n",
       "      <th>2018-11-19 16:45:00</th>\n",
       "      <td>0.208452</td>\n",
       "      <td>0.424805</td>\n",
       "      <td>0.588758</td>\n",
       "      <td>5</td>\n",
       "      <td>1.0</td>\n",
       "      <td>0.999848</td>\n",
       "    </tr>\n",
       "    <tr>\n",
       "      <th>2018-11-19 17:45:00</th>\n",
       "      <td>-0.626475</td>\n",
       "      <td>-0.607838</td>\n",
       "      <td>-0.019928</td>\n",
       "      <td>5</td>\n",
       "      <td>1.5</td>\n",
       "      <td>0.999657</td>\n",
       "    </tr>\n",
       "    <tr>\n",
       "      <th>2018-11-19 18:45:00</th>\n",
       "      <td>-2.028591</td>\n",
       "      <td>-1.037120</td>\n",
       "      <td>-0.714983</td>\n",
       "      <td>5</td>\n",
       "      <td>2.0</td>\n",
       "      <td>0.999391</td>\n",
       "    </tr>\n",
       "    <tr>\n",
       "      <th>2018-11-19 19:45:00</th>\n",
       "      <td>-1.730866</td>\n",
       "      <td>0.015317</td>\n",
       "      <td>-0.033431</td>\n",
       "      <td>5</td>\n",
       "      <td>2.5</td>\n",
       "      <td>0.999048</td>\n",
       "    </tr>\n",
       "    <tr>\n",
       "      <th>2018-11-19 20:45:00</th>\n",
       "      <td>-0.060804</td>\n",
       "      <td>-1.334582</td>\n",
       "      <td>-0.575089</td>\n",
       "      <td>5</td>\n",
       "      <td>3.0</td>\n",
       "      <td>0.998630</td>\n",
       "    </tr>\n",
       "    <tr>\n",
       "      <th>2018-11-19 21:45:00</th>\n",
       "      <td>0.456016</td>\n",
       "      <td>-0.578104</td>\n",
       "      <td>-1.012815</td>\n",
       "      <td>5</td>\n",
       "      <td>3.5</td>\n",
       "      <td>0.998135</td>\n",
       "    </tr>\n",
       "    <tr>\n",
       "      <th>2018-11-19 22:45:00</th>\n",
       "      <td>-0.573528</td>\n",
       "      <td>-0.224173</td>\n",
       "      <td>-0.039968</td>\n",
       "      <td>5</td>\n",
       "      <td>4.0</td>\n",
       "      <td>0.997564</td>\n",
       "    </tr>\n",
       "    <tr>\n",
       "      <th>2018-11-19 23:45:00</th>\n",
       "      <td>-2.466426</td>\n",
       "      <td>1.764100</td>\n",
       "      <td>0.635819</td>\n",
       "      <td>5</td>\n",
       "      <td>4.5</td>\n",
       "      <td>0.996917</td>\n",
       "    </tr>\n",
       "  </tbody>\n",
       "</table>\n",
       "</div>"
      ],
      "text/plain": [
       "                            A         B         C  D    E    cosine\n",
       "2018-11-19 14:45:00  0.000000  0.137713  0.505305  5  0.0  1.000000\n",
       "2018-11-19 15:45:00 -0.865478 -0.545589 -0.324306  5  0.5  0.999962\n",
       "2018-11-19 16:45:00  0.208452  0.424805  0.588758  5  1.0  0.999848\n",
       "2018-11-19 17:45:00 -0.626475 -0.607838 -0.019928  5  1.5  0.999657\n",
       "2018-11-19 18:45:00 -2.028591 -1.037120 -0.714983  5  2.0  0.999391\n",
       "2018-11-19 19:45:00 -1.730866  0.015317 -0.033431  5  2.5  0.999048\n",
       "2018-11-19 20:45:00 -0.060804 -1.334582 -0.575089  5  3.0  0.998630\n",
       "2018-11-19 21:45:00  0.456016 -0.578104 -1.012815  5  3.5  0.998135\n",
       "2018-11-19 22:45:00 -0.573528 -0.224173 -0.039968  5  4.0  0.997564\n",
       "2018-11-19 23:45:00 -2.466426  1.764100  0.635819  5  4.5  0.996917"
      ]
     },
     "execution_count": 67,
     "metadata": {},
     "output_type": "execute_result"
    }
   ],
   "source": [
    "# Dropping by column\n",
    "df.drop(['E prime'], axis=1)\n",
    "\n",
    "#which is equivalent to\n",
    "#df.drop(columns=['E prime'])"
   ]
  },
  {
   "cell_type": "code",
   "execution_count": 68,
   "metadata": {},
   "outputs": [
    {
     "data": {
      "text/html": [
       "<div>\n",
       "<style>\n",
       "    .dataframe thead tr:only-child th {\n",
       "        text-align: right;\n",
       "    }\n",
       "\n",
       "    .dataframe thead th {\n",
       "        text-align: left;\n",
       "    }\n",
       "\n",
       "    .dataframe tbody tr th {\n",
       "        vertical-align: top;\n",
       "    }\n",
       "</style>\n",
       "<table border=\"1\" class=\"dataframe\">\n",
       "  <thead>\n",
       "    <tr style=\"text-align: right;\">\n",
       "      <th></th>\n",
       "      <th>A</th>\n",
       "      <th>B</th>\n",
       "      <th>C</th>\n",
       "      <th>D</th>\n",
       "      <th>E</th>\n",
       "      <th>E prime</th>\n",
       "      <th>cosine</th>\n",
       "    </tr>\n",
       "  </thead>\n",
       "  <tbody>\n",
       "    <tr>\n",
       "      <th>2018-11-19 14:45:00</th>\n",
       "      <td>0.000000</td>\n",
       "      <td>0.137713</td>\n",
       "      <td>0.505305</td>\n",
       "      <td>5</td>\n",
       "      <td>0.0</td>\n",
       "      <td>0</td>\n",
       "      <td>1.000000</td>\n",
       "    </tr>\n",
       "    <tr>\n",
       "      <th>2018-11-19 19:45:00</th>\n",
       "      <td>-1.730866</td>\n",
       "      <td>0.015317</td>\n",
       "      <td>-0.033431</td>\n",
       "      <td>5</td>\n",
       "      <td>2.5</td>\n",
       "      <td>10</td>\n",
       "      <td>0.999048</td>\n",
       "    </tr>\n",
       "    <tr>\n",
       "      <th>2018-11-19 20:45:00</th>\n",
       "      <td>-0.060804</td>\n",
       "      <td>-1.334582</td>\n",
       "      <td>-0.575089</td>\n",
       "      <td>5</td>\n",
       "      <td>3.0</td>\n",
       "      <td>12</td>\n",
       "      <td>0.998630</td>\n",
       "    </tr>\n",
       "    <tr>\n",
       "      <th>2018-11-19 21:45:00</th>\n",
       "      <td>0.456016</td>\n",
       "      <td>-0.578104</td>\n",
       "      <td>-1.012815</td>\n",
       "      <td>5</td>\n",
       "      <td>3.5</td>\n",
       "      <td>14</td>\n",
       "      <td>0.998135</td>\n",
       "    </tr>\n",
       "    <tr>\n",
       "      <th>2018-11-19 22:45:00</th>\n",
       "      <td>-0.573528</td>\n",
       "      <td>-0.224173</td>\n",
       "      <td>-0.039968</td>\n",
       "      <td>5</td>\n",
       "      <td>4.0</td>\n",
       "      <td>16</td>\n",
       "      <td>0.997564</td>\n",
       "    </tr>\n",
       "    <tr>\n",
       "      <th>2018-11-19 23:45:00</th>\n",
       "      <td>-2.466426</td>\n",
       "      <td>1.764100</td>\n",
       "      <td>0.635819</td>\n",
       "      <td>5</td>\n",
       "      <td>4.5</td>\n",
       "      <td>18</td>\n",
       "      <td>0.996917</td>\n",
       "    </tr>\n",
       "  </tbody>\n",
       "</table>\n",
       "</div>"
      ],
      "text/plain": [
       "                            A         B         C  D    E  E prime    cosine\n",
       "2018-11-19 14:45:00  0.000000  0.137713  0.505305  5  0.0        0  1.000000\n",
       "2018-11-19 19:45:00 -1.730866  0.015317 -0.033431  5  2.5       10  0.999048\n",
       "2018-11-19 20:45:00 -0.060804 -1.334582 -0.575089  5  3.0       12  0.998630\n",
       "2018-11-19 21:45:00  0.456016 -0.578104 -1.012815  5  3.5       14  0.998135\n",
       "2018-11-19 22:45:00 -0.573528 -0.224173 -0.039968  5  4.0       16  0.997564\n",
       "2018-11-19 23:45:00 -2.466426  1.764100  0.635819  5  4.5       18  0.996917"
      ]
     },
     "execution_count": 68,
     "metadata": {},
     "output_type": "execute_result"
    }
   ],
   "source": [
    "# Dropping by raws\n",
    "# save and always working\n",
    "df.drop(df.index[[1,2,3,4]])"
   ]
  },
  {
   "cell_type": "code",
   "execution_count": 69,
   "metadata": {},
   "outputs": [
    {
     "data": {
      "text/html": [
       "<div>\n",
       "<style>\n",
       "    .dataframe thead tr:only-child th {\n",
       "        text-align: right;\n",
       "    }\n",
       "\n",
       "    .dataframe thead th {\n",
       "        text-align: left;\n",
       "    }\n",
       "\n",
       "    .dataframe tbody tr th {\n",
       "        vertical-align: top;\n",
       "    }\n",
       "</style>\n",
       "<table border=\"1\" class=\"dataframe\">\n",
       "  <thead>\n",
       "    <tr style=\"text-align: right;\">\n",
       "      <th></th>\n",
       "      <th>A</th>\n",
       "      <th>B</th>\n",
       "      <th>C</th>\n",
       "      <th>D</th>\n",
       "      <th>E</th>\n",
       "      <th>E prime</th>\n",
       "      <th>cosine</th>\n",
       "    </tr>\n",
       "  </thead>\n",
       "  <tbody>\n",
       "    <tr>\n",
       "      <th>2018-11-19 14:45:00</th>\n",
       "      <td>0.000000</td>\n",
       "      <td>0.137713</td>\n",
       "      <td>0.505305</td>\n",
       "      <td>5</td>\n",
       "      <td>0.0</td>\n",
       "      <td>0</td>\n",
       "      <td>1.000000</td>\n",
       "    </tr>\n",
       "    <tr>\n",
       "      <th>2018-11-19 15:45:00</th>\n",
       "      <td>-0.865478</td>\n",
       "      <td>-0.545589</td>\n",
       "      <td>-0.324306</td>\n",
       "      <td>5</td>\n",
       "      <td>0.5</td>\n",
       "      <td>2</td>\n",
       "      <td>0.999962</td>\n",
       "    </tr>\n",
       "    <tr>\n",
       "      <th>2018-11-19 16:45:00</th>\n",
       "      <td>0.208452</td>\n",
       "      <td>0.424805</td>\n",
       "      <td>0.588758</td>\n",
       "      <td>5</td>\n",
       "      <td>1.0</td>\n",
       "      <td>4</td>\n",
       "      <td>0.999848</td>\n",
       "    </tr>\n",
       "    <tr>\n",
       "      <th>2018-11-19 17:45:00</th>\n",
       "      <td>-0.626475</td>\n",
       "      <td>-0.607838</td>\n",
       "      <td>-0.019928</td>\n",
       "      <td>5</td>\n",
       "      <td>1.5</td>\n",
       "      <td>6</td>\n",
       "      <td>0.999657</td>\n",
       "    </tr>\n",
       "    <tr>\n",
       "      <th>2018-11-19 18:45:00</th>\n",
       "      <td>-2.028591</td>\n",
       "      <td>-1.037120</td>\n",
       "      <td>-0.714983</td>\n",
       "      <td>5</td>\n",
       "      <td>2.0</td>\n",
       "      <td>8</td>\n",
       "      <td>0.999391</td>\n",
       "    </tr>\n",
       "    <tr>\n",
       "      <th>2018-11-19 19:45:00</th>\n",
       "      <td>-1.730866</td>\n",
       "      <td>0.015317</td>\n",
       "      <td>-0.033431</td>\n",
       "      <td>5</td>\n",
       "      <td>2.5</td>\n",
       "      <td>10</td>\n",
       "      <td>0.999048</td>\n",
       "    </tr>\n",
       "    <tr>\n",
       "      <th>2018-11-19 20:45:00</th>\n",
       "      <td>-0.060804</td>\n",
       "      <td>-1.334582</td>\n",
       "      <td>-0.575089</td>\n",
       "      <td>5</td>\n",
       "      <td>3.0</td>\n",
       "      <td>12</td>\n",
       "      <td>0.998630</td>\n",
       "    </tr>\n",
       "    <tr>\n",
       "      <th>2018-11-19 21:45:00</th>\n",
       "      <td>0.456016</td>\n",
       "      <td>-0.578104</td>\n",
       "      <td>-1.012815</td>\n",
       "      <td>5</td>\n",
       "      <td>3.5</td>\n",
       "      <td>14</td>\n",
       "      <td>0.998135</td>\n",
       "    </tr>\n",
       "    <tr>\n",
       "      <th>2018-11-19 23:45:00</th>\n",
       "      <td>-2.466426</td>\n",
       "      <td>1.764100</td>\n",
       "      <td>0.635819</td>\n",
       "      <td>5</td>\n",
       "      <td>4.5</td>\n",
       "      <td>18</td>\n",
       "      <td>0.996917</td>\n",
       "    </tr>\n",
       "  </tbody>\n",
       "</table>\n",
       "</div>"
      ],
      "text/plain": [
       "                            A         B         C  D    E  E prime    cosine\n",
       "2018-11-19 14:45:00  0.000000  0.137713  0.505305  5  0.0        0  1.000000\n",
       "2018-11-19 15:45:00 -0.865478 -0.545589 -0.324306  5  0.5        2  0.999962\n",
       "2018-11-19 16:45:00  0.208452  0.424805  0.588758  5  1.0        4  0.999848\n",
       "2018-11-19 17:45:00 -0.626475 -0.607838 -0.019928  5  1.5        6  0.999657\n",
       "2018-11-19 18:45:00 -2.028591 -1.037120 -0.714983  5  2.0        8  0.999391\n",
       "2018-11-19 19:45:00 -1.730866  0.015317 -0.033431  5  2.5       10  0.999048\n",
       "2018-11-19 20:45:00 -0.060804 -1.334582 -0.575089  5  3.0       12  0.998630\n",
       "2018-11-19 21:45:00  0.456016 -0.578104 -1.012815  5  3.5       14  0.998135\n",
       "2018-11-19 23:45:00 -2.466426  1.764100  0.635819  5  4.5       18  0.996917"
      ]
     },
     "execution_count": 69,
     "metadata": {},
     "output_type": "execute_result"
    }
   ],
   "source": [
    "# something like df.drop('index_name') \n",
    "# would work but the type of index must be specificed, \n",
    "# in particular with DatetimeIndex\n",
    "df.drop(pd.to_datetime(\"2018-11-19 22:45:00\"))"
   ]
  },
  {
   "cell_type": "markdown",
   "metadata": {},
   "source": [
    "## Missing data\n",
    "\n",
    "pandas primarily uses the value np.nan to represent missing data. It is by default not included in computations."
   ]
  },
  {
   "cell_type": "code",
   "execution_count": null,
   "metadata": {
    "collapsed": true
   },
   "outputs": [],
   "source": [
    "df_wNan = df[df>0]\n",
    "df_wNan"
   ]
  },
  {
   "cell_type": "code",
   "execution_count": null,
   "metadata": {
    "collapsed": true
   },
   "outputs": [],
   "source": [
    "# dropping raws with at least a Nan\n",
    "df_wNan.dropna(how='any')"
   ]
  },
  {
   "cell_type": "code",
   "execution_count": null,
   "metadata": {
    "collapsed": true
   },
   "outputs": [],
   "source": [
    "# getting a mask\n",
    "df_wNan.isna()\n",
    "#df_wNan.notna()"
   ]
  },
  {
   "cell_type": "code",
   "execution_count": null,
   "metadata": {
    "collapsed": true
   },
   "outputs": [],
   "source": [
    "# filling missing data\n",
    "df_wNan.fillna(value=0)"
   ]
  },
  {
   "cell_type": "markdown",
   "metadata": {},
   "source": [
    "Fill gaps forward or backward by propagating non-NA values forward or backward:"
   ]
  },
  {
   "cell_type": "code",
   "execution_count": null,
   "metadata": {
    "collapsed": true
   },
   "outputs": [],
   "source": [
    "df_wNan.fillna(method='pad')"
   ]
  },
  {
   "cell_type": "markdown",
   "metadata": {},
   "source": [
    "## Operations\n",
    "\n",
    "Here comes the most relevant advantage of DataFrame. Operations on columns are extremly fast, almost as fast as the actual operation between elements in a raw"
   ]
  },
  {
   "cell_type": "code",
   "execution_count": null,
   "metadata": {
    "collapsed": true
   },
   "outputs": [],
   "source": [
    "# Some statistics (mean() just as an example)\n",
    "# raws\n",
    "print (df.mean(axis=0),'\\n')\n",
    "# columns\n",
    "print (df.mean(axis=1),'\\n')"
   ]
  },
  {
   "cell_type": "code",
   "execution_count": null,
   "metadata": {
    "collapsed": true
   },
   "outputs": [],
   "source": [
    "# global operations on columns\n",
    "df.apply(np.cumsum)"
   ]
  },
  {
   "cell_type": "code",
   "execution_count": null,
   "metadata": {
    "collapsed": true
   },
   "outputs": [],
   "source": [
    "df.apply(lambda x: x.max() - x.min())"
   ]
  },
  {
   "cell_type": "code",
   "execution_count": null,
   "metadata": {
    "collapsed": true
   },
   "outputs": [],
   "source": [
    "# syntax is as usual similar to that of numpy arrays\n",
    "df['A']+df['B']"
   ]
  },
  {
   "cell_type": "markdown",
   "metadata": {},
   "source": [
    "Let's play it hard and load (in memory) a (relatively) large dataset"
   ]
  },
  {
   "cell_type": "code",
   "execution_count": null,
   "metadata": {
    "collapsed": true
   },
   "outputs": [],
   "source": [
    "file_name=\"/Users/mzanetti/data/LEMMA2018/DT/raw/data_000636.txt\"\n",
    "data=pd.read_csv(file_name)\n",
    "data"
   ]
  },
  {
   "cell_type": "markdown",
   "metadata": {},
   "source": [
    "Let's know do some operations among (elements of) columns"
   ]
  },
  {
   "cell_type": "code",
   "execution_count": null,
   "metadata": {
    "collapsed": true
   },
   "outputs": [],
   "source": [
    "# the one-liner killing it all\n",
    "data['timens']=data['TDC_MEAS']*25/30+data['BX_COUNTER']*25"
   ]
  },
  {
   "cell_type": "code",
   "execution_count": null,
   "metadata": {
    "collapsed": true
   },
   "outputs": [],
   "source": [
    "# the old slooow way\n",
    "def conversion(data):\n",
    "    result=[]\n",
    "    for i in range(len(data)): \n",
    "        result.append(data.loc[data.index[i],'TDC_MEAS']*25/30.+data.loc[data.index[i],'BX_COUNTER']*25)\n",
    "    return result\n",
    "\n",
    "data['timens']=conversion(data)"
   ]
  },
  {
   "cell_type": "markdown",
   "metadata": {},
   "source": [
    "## Merge\n",
    "\n",
    "pandas provides various facilities for easily combining together Series, DataFrame, and Panel objects with various kinds of set logic for the indexes and relational algebra functionality in the case of join / merge-type operations.\n",
    "\n",
    "### Concat\n",
    "\n",
    "concatenation (adding raws) is straightforward\n"
   ]
  },
  {
   "cell_type": "code",
   "execution_count": null,
   "metadata": {
    "collapsed": true
   },
   "outputs": [],
   "source": [
    "rdf = pd.DataFrame(np.random.randn(10, 4))\n",
    "rdf"
   ]
  },
  {
   "cell_type": "code",
   "execution_count": null,
   "metadata": {
    "collapsed": true
   },
   "outputs": [],
   "source": [
    "# divide it into pieaces raw-wise\n",
    "pieces = [rdf[:3], rdf[3:7], rdf[7:]]\n",
    "pieces"
   ]
  },
  {
   "cell_type": "code",
   "execution_count": null,
   "metadata": {
    "collapsed": true
   },
   "outputs": [],
   "source": [
    "# put it back together\n",
    "pd.concat(pieces)\n",
    "\n",
    "# indexes can be ignored\n",
    "#pd.concat(pieces, ignore_index=True)\n",
    "\n",
    "# in case of dimension mismatch, Nan are added where needed"
   ]
  },
  {
   "cell_type": "code",
   "execution_count": null,
   "metadata": {
    "collapsed": true
   },
   "outputs": [],
   "source": [
    "# appending a single raw (as a Series)\n",
    "s = rdf.iloc[3]\n",
    "rdf.append(s, ignore_index=True)\n"
   ]
  },
  {
   "cell_type": "markdown",
   "metadata": {},
   "source": [
    "### Merge/Join\n",
    "\n",
    "SQL like operations on table can be performed on DataFrames. This is all rather sophisticated, refer to the [doc](https://pandas.pydata.org/pandas-docs/stable/merging.html#merging) for more info/examples"
   ]
  },
  {
   "cell_type": "code",
   "execution_count": null,
   "metadata": {
    "collapsed": true
   },
   "outputs": [],
   "source": [
    "left = pd.DataFrame({'key': ['foo', 'bar'], 'lval': [1, 2]})\n",
    "right = pd.DataFrame({'key': ['foo', 'bar'], 'rval': [4, 5]})\n",
    "\n",
    "pd.merge(left,right,on=\"key\")"
   ]
  },
  {
   "cell_type": "markdown",
   "metadata": {},
   "source": [
    "## Grouping\n",
    "\n",
    "By “group by” we are referring to a process involving one or more of the following steps:\n",
    "\n",
    "* Splitting the data into groups based on some criteria\n",
    "* Applying a function to each group independently\n",
    "* Combining the results into a data structure\n"
   ]
  },
  {
   "cell_type": "code",
   "execution_count": null,
   "metadata": {
    "collapsed": true
   },
   "outputs": [],
   "source": [
    "gdf = pd.DataFrame({'A' : ['foo', 'bar', 'foo', 'bar',\n",
    "                          'foo', 'bar', 'foo', 'foo'],\n",
    "                    'B' : ['one', 'one', 'two', 'three',\n",
    "                           'two', 'two', 'one', 'three'],\n",
    "                    'C' : np.random.randn(8),\n",
    "                    'D' : np.random.randn(8)})\n",
    "gdf"
   ]
  },
  {
   "cell_type": "code",
   "execution_count": null,
   "metadata": {
    "collapsed": true
   },
   "outputs": [],
   "source": [
    "# Grouping and then applying the sum() \n",
    "# function to the resulting groups (effective only where number are there).\n",
    "gdf.groupby('A').sum()"
   ]
  },
  {
   "cell_type": "markdown",
   "metadata": {},
   "source": [
    "## Multi-indexing\n",
    "\n",
    "\n",
    "Hierarchical / Multi-level indexing allows sophisticated data analysis on higher dimensional data. In essence, it enables you to store and manipulate data with an arbitrary number of dimensions in lower dimensional data structures like Series (1d) and DataFrame (2d)."
   ]
  },
  {
   "cell_type": "code",
   "execution_count": 71,
   "metadata": {},
   "outputs": [
    {
     "name": "stdout",
     "output_type": "stream",
     "text": [
      "MultiIndex(levels=[['bar', 'baz', 'foo', 'qux'], ['one', 'two']],\n",
      "           labels=[[0, 0, 1, 1, 2, 2, 3, 3], [0, 1, 0, 1, 0, 1, 0, 1]],\n",
      "           names=['first', 'second']) \n",
      "\n",
      "first  second\n",
      "bar    one       0.242836\n",
      "       two       0.641636\n",
      "baz    one       0.904181\n",
      "       two       1.366261\n",
      "foo    one       1.412243\n",
      "       two      -1.902369\n",
      "qux    one      -1.024069\n",
      "       two       0.500848\n",
      "dtype: float64\n"
     ]
    }
   ],
   "source": [
    "tuples = list(zip(['bar', 'bar', 'baz', 'baz', 'foo', 'foo', 'qux', 'qux'],\n",
    "          ['one', 'two', 'one', 'two', 'one', 'two', 'one', 'two']))\n",
    "multi_index = pd.MultiIndex.from_tuples(tuples, names=['first', 'second'])\n",
    "print (multi_index,'\\n')\n",
    "\n",
    "s = pd.Series(np.random.randn(8), index=multi_index)\n",
    "print (s)\n"
   ]
  },
  {
   "cell_type": "code",
   "execution_count": 72,
   "metadata": {},
   "outputs": [
    {
     "data": {
      "text/html": [
       "<div>\n",
       "<style>\n",
       "    .dataframe thead tr:only-child th {\n",
       "        text-align: right;\n",
       "    }\n",
       "\n",
       "    .dataframe thead th {\n",
       "        text-align: left;\n",
       "    }\n",
       "\n",
       "    .dataframe tbody tr th {\n",
       "        vertical-align: top;\n",
       "    }\n",
       "</style>\n",
       "<table border=\"1\" class=\"dataframe\">\n",
       "  <thead>\n",
       "    <tr style=\"text-align: right;\">\n",
       "      <th></th>\n",
       "      <th></th>\n",
       "      <th>C</th>\n",
       "      <th>D</th>\n",
       "    </tr>\n",
       "    <tr>\n",
       "      <th>A</th>\n",
       "      <th>B</th>\n",
       "      <th></th>\n",
       "      <th></th>\n",
       "    </tr>\n",
       "  </thead>\n",
       "  <tbody>\n",
       "    <tr>\n",
       "      <th rowspan=\"3\" valign=\"top\">bar</th>\n",
       "      <th>one</th>\n",
       "      <td>1.654903</td>\n",
       "      <td>0.638120</td>\n",
       "    </tr>\n",
       "    <tr>\n",
       "      <th>three</th>\n",
       "      <td>-3.003772</td>\n",
       "      <td>0.028656</td>\n",
       "    </tr>\n",
       "    <tr>\n",
       "      <th>two</th>\n",
       "      <td>0.514205</td>\n",
       "      <td>-1.869869</td>\n",
       "    </tr>\n",
       "    <tr>\n",
       "      <th rowspan=\"3\" valign=\"top\">foo</th>\n",
       "      <th>one</th>\n",
       "      <td>-0.312656</td>\n",
       "      <td>-2.003879</td>\n",
       "    </tr>\n",
       "    <tr>\n",
       "      <th>three</th>\n",
       "      <td>-1.885982</td>\n",
       "      <td>1.143366</td>\n",
       "    </tr>\n",
       "    <tr>\n",
       "      <th>two</th>\n",
       "      <td>0.496055</td>\n",
       "      <td>-1.283975</td>\n",
       "    </tr>\n",
       "  </tbody>\n",
       "</table>\n",
       "</div>"
      ],
      "text/plain": [
       "                  C         D\n",
       "A   B                        \n",
       "bar one    1.654903  0.638120\n",
       "    three -3.003772  0.028656\n",
       "    two    0.514205 -1.869869\n",
       "foo one   -0.312656 -2.003879\n",
       "    three -1.885982  1.143366\n",
       "    two    0.496055 -1.283975"
      ]
     },
     "execution_count": 72,
     "metadata": {},
     "output_type": "execute_result"
    }
   ],
   "source": [
    "# it enables further features of the groupby method,\n",
    "# e.g. when group-by by multiple columns\n",
    "gdf.groupby(['A','B']).sum()"
   ]
  },
  {
   "cell_type": "code",
   "execution_count": null,
   "metadata": {
    "collapsed": true
   },
   "outputs": [],
   "source": [
    "# stack() method “compresses” a level in the DataFrame’s columns\n",
    "gdf.groupby(['A','B']).sum().stack()"
   ]
  },
  {
   "cell_type": "markdown",
   "metadata": {},
   "source": [
    "## Plotting\n",
    "\n",
    "Just a preview, more on the next lab class!"
   ]
  },
  {
   "cell_type": "code",
   "execution_count": null,
   "metadata": {
    "collapsed": true
   },
   "outputs": [],
   "source": [
    "ts = pd.Series(np.random.randn(1000), index=pd.date_range('1/1/2000', periods=1000))\n",
    "ts.cumsum().plot()"
   ]
  },
  {
   "cell_type": "code",
   "execution_count": null,
   "metadata": {
    "collapsed": true
   },
   "outputs": [],
   "source": [
    "pdf=pd.DataFrame(np.random.randn(1000, 4), index=ts.index,columns=['A', 'B', 'C', 'D'])\n",
    "df = df.cumsum()\n",
    "plt.figure(); df.plot(); plt.legend(loc='best')"
   ]
  },
  {
   "cell_type": "code",
   "execution_count": null,
   "metadata": {
    "collapsed": true
   },
   "outputs": [],
   "source": []
  }
 ],
 "metadata": {
  "kernelspec": {
   "display_name": "Python 3",
   "language": "python",
   "name": "python3"
  },
  "language_info": {
   "codemirror_mode": {
    "name": "ipython",
    "version": 3
   },
   "file_extension": ".py",
   "mimetype": "text/x-python",
   "name": "python",
   "nbconvert_exporter": "python",
   "pygments_lexer": "ipython3",
   "version": "3.6.3"
  }
 },
 "nbformat": 4,
 "nbformat_minor": 2
}
